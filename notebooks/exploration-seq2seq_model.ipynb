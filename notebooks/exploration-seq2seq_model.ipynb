{
 "metadata": {
  "kernelspec": {
   "language": "python",
   "display_name": "Python 3",
   "name": "python3"
  },
  "language_info": {
   "name": "python",
   "version": "3.7.10",
   "mimetype": "text/x-python",
   "codemirror_mode": {
    "name": "ipython",
    "version": 3
   },
   "pygments_lexer": "ipython3",
   "nbconvert_exporter": "python",
   "file_extension": ".py"
  }
 },
 "nbformat_minor": 4,
 "nbformat": 4,
 "cells": [
  {
   "cell_type": "markdown",
   "source": [
    "<h1>Import the Required Libraries</h1>"
   ],
   "metadata": {}
  },
  {
   "cell_type": "code",
   "source": [
    "import string\n",
    "import re\n",
    "from numpy import array, argmax, random, take\n",
    "import pandas as pd\n",
    "from keras.models import Sequential\n",
    "from keras.layers import Dense, LSTM, Embedding, RepeatVector\n",
    "from keras.preprocessing.text import Tokenizer\n",
    "from keras.callbacks import ModelCheckpoint\n",
    "from keras.preprocessing.sequence import pad_sequences\n",
    "from keras.models import load_model\n",
    "from keras import optimizers\n",
    "import matplotlib.pyplot as plt\n",
    "%matplotlib inline\n",
    "pd.set_option('display.max_colwidth', 200)"
   ],
   "metadata": {
    "execution": {
     "iopub.status.busy": "2023-11-05T18:07:02.107441Z",
     "iopub.execute_input": "2023-11-05T18:07:02.107854Z",
     "iopub.status.idle": "2023-11-05T18:07:02.117772Z",
     "shell.execute_reply.started": "2023-11-05T18:07:02.107821Z",
     "shell.execute_reply": "2023-11-05T18:07:02.116808Z"
    },
    "trusted": true
   },
   "execution_count": 119,
   "outputs": []
  },
  {
   "cell_type": "code",
   "source": [
    "# function to read raw text file\n",
    "def read_text(filename):\n",
    "        # open the file\n",
    "        file = open(filename, mode='rt', encoding='utf-8')\n",
    "        \n",
    "        # read all text\n",
    "        text = file.read()\n",
    "        file.close()\n",
    "        return text"
   ],
   "metadata": {
    "execution": {
     "iopub.status.busy": "2023-11-05T18:07:02.119072Z",
     "iopub.execute_input": "2023-11-05T18:07:02.119362Z",
     "iopub.status.idle": "2023-11-05T18:07:02.130220Z",
     "shell.execute_reply.started": "2023-11-05T18:07:02.119335Z",
     "shell.execute_reply": "2023-11-05T18:07:02.129353Z"
    },
    "trusted": true
   },
   "execution_count": 120,
   "outputs": []
  },
  {
   "cell_type": "code",
   "source": [
    "# split a text into sentences\n",
    "def to_lines(text):\n",
    "    sents = text.strip().split('\\n')\n",
    "    sents = [i.split('\\t') for i in sents]\n",
    "    return sents"
   ],
   "metadata": {
    "execution": {
     "iopub.status.busy": "2023-11-05T18:07:02.142094Z",
     "iopub.execute_input": "2023-11-05T18:07:02.142369Z",
     "iopub.status.idle": "2023-11-05T18:07:02.146852Z",
     "shell.execute_reply.started": "2023-11-05T18:07:02.142343Z",
     "shell.execute_reply": "2023-11-05T18:07:02.145817Z"
    },
    "trusted": true
   },
   "execution_count": 121,
   "outputs": []
  },
  {
   "cell_type": "code",
   "source": [
    "data = read_text(\"../input/bilingual-sentence-pairs/deu.txt\")\n",
    "deu_eng = to_lines(data)\n",
    "deu_eng = array(deu_eng)"
   ],
   "metadata": {
    "execution": {
     "iopub.status.busy": "2023-11-05T18:07:02.148504Z",
     "iopub.execute_input": "2023-11-05T18:07:02.148934Z",
     "iopub.status.idle": "2023-11-05T18:07:04.892511Z",
     "shell.execute_reply.started": "2023-11-05T18:07:02.148899Z",
     "shell.execute_reply": "2023-11-05T18:07:04.891773Z"
    },
    "trusted": true
   },
   "execution_count": 122,
   "outputs": []
  },
  {
   "cell_type": "code",
   "source": [
    "deu_eng = deu_eng[:50000,:]"
   ],
   "metadata": {
    "execution": {
     "iopub.status.busy": "2023-11-05T18:07:04.894737Z",
     "iopub.execute_input": "2023-11-05T18:07:04.895108Z",
     "iopub.status.idle": "2023-11-05T18:07:04.899397Z",
     "shell.execute_reply.started": "2023-11-05T18:07:04.895069Z",
     "shell.execute_reply": "2023-11-05T18:07:04.898444Z"
    },
    "trusted": true
   },
   "execution_count": 123,
   "outputs": []
  },
  {
   "cell_type": "code",
   "source": [
    "N = 50000\n",
    "data = pd.read_csv(\"../input/train-dataset/filtered.tsv\", sep='\\t').iloc[:N]\n",
    "for i in range(len(data)):\n",
    "    if i % 1000==0:\n",
    "        print(f\"{100*i/N}% completed\")\n",
    "    if data.iloc[i, 5] < data.iloc[i, 6]:\n",
    "        # Do swap\n",
    "        z = data.iloc[i, 1]\n",
    "        data.iloc[i, 1] = data.iloc[i, 2]\n",
    "        data.iloc[i, 2] = z\n",
    "\n",
    "        z = data.iloc[i, 5]\n",
    "        data.iloc[i, 5] = data.iloc[i, 6]\n",
    "        data.iloc[i, 6] = z\n",
    "data = data[[\"reference\", \"translation\"]]\n",
    "data.head(3)"
   ],
   "metadata": {
    "execution": {
     "iopub.status.busy": "2023-11-05T18:07:04.901365Z",
     "iopub.execute_input": "2023-11-05T18:07:04.901772Z",
     "iopub.status.idle": "2023-11-05T18:08:37.230978Z",
     "shell.execute_reply.started": "2023-11-05T18:07:04.901735Z",
     "shell.execute_reply": "2023-11-05T18:08:37.230085Z"
    },
    "trusted": true
   },
   "execution_count": 124,
   "outputs": [
    {
     "name": "stdout",
     "text": "0.0% completed\n2.0% completed\n4.0% completed\n6.0% completed\n8.0% completed\n10.0% completed\n12.0% completed\n14.0% completed\n16.0% completed\n18.0% completed\n20.0% completed\n22.0% completed\n24.0% completed\n26.0% completed\n28.0% completed\n30.0% completed\n32.0% completed\n34.0% completed\n36.0% completed\n38.0% completed\n40.0% completed\n42.0% completed\n44.0% completed\n46.0% completed\n48.0% completed\n50.0% completed\n52.0% completed\n54.0% completed\n56.0% completed\n58.0% completed\n60.0% completed\n62.0% completed\n64.0% completed\n66.0% completed\n68.0% completed\n70.0% completed\n72.0% completed\n74.0% completed\n76.0% completed\n78.0% completed\n80.0% completed\n82.0% completed\n84.0% completed\n86.0% completed\n88.0% completed\n90.0% completed\n92.0% completed\n94.0% completed\n96.0% completed\n98.0% completed\n",
     "output_type": "stream"
    },
    {
     "execution_count": 124,
     "output_type": "execute_result",
     "data": {
      "text/plain": "                                                                                          reference  \\\n0  if Alkar floods her with her mental waste, it would explain the high levels of neurotransmitter.   \n1                                                                       you're becoming disgusting.   \n2                                                                     well, we can spare your life.   \n\n                                                                                       translation  \n0  If Alkar is flooding her with psychic waste, that explains the high level of neurotransmitters.  \n1                                                                        Now you're getting nasty.  \n2                                                         Well, we could spare your life, for one.  ",
      "text/html": "<div>\n<style scoped>\n    .dataframe tbody tr th:only-of-type {\n        vertical-align: middle;\n    }\n\n    .dataframe tbody tr th {\n        vertical-align: top;\n    }\n\n    .dataframe thead th {\n        text-align: right;\n    }\n</style>\n<table border=\"1\" class=\"dataframe\">\n  <thead>\n    <tr style=\"text-align: right;\">\n      <th></th>\n      <th>reference</th>\n      <th>translation</th>\n    </tr>\n  </thead>\n  <tbody>\n    <tr>\n      <th>0</th>\n      <td>if Alkar floods her with her mental waste, it would explain the high levels of neurotransmitter.</td>\n      <td>If Alkar is flooding her with psychic waste, that explains the high level of neurotransmitters.</td>\n    </tr>\n    <tr>\n      <th>1</th>\n      <td>you're becoming disgusting.</td>\n      <td>Now you're getting nasty.</td>\n    </tr>\n    <tr>\n      <th>2</th>\n      <td>well, we can spare your life.</td>\n      <td>Well, we could spare your life, for one.</td>\n    </tr>\n  </tbody>\n</table>\n</div>"
     },
     "metadata": {}
    }
   ]
  },
  {
   "cell_type": "code",
   "source": [
    "deu_eng = data.to_numpy()"
   ],
   "metadata": {
    "execution": {
     "iopub.status.busy": "2023-11-05T18:08:37.232276Z",
     "iopub.execute_input": "2023-11-05T18:08:37.232561Z",
     "iopub.status.idle": "2023-11-05T18:08:37.323992Z",
     "shell.execute_reply.started": "2023-11-05T18:08:37.232532Z",
     "shell.execute_reply": "2023-11-05T18:08:37.322925Z"
    },
    "trusted": true
   },
   "execution_count": 125,
   "outputs": []
  },
  {
   "cell_type": "markdown",
   "source": [
    "<h1> Text Cleaning / Preprocessing</h1>"
   ],
   "metadata": {}
  },
  {
   "cell_type": "code",
   "source": [
    "deu_eng[:,0] = [s.translate(str.maketrans('', '', string.punctuation)) for s in deu_eng[:,0]]\n",
    "deu_eng[:,1] = [s.translate(str.maketrans('', '', string.punctuation)) for s in deu_eng[:,1]]\n",
    "\n",
    "deu_eng"
   ],
   "metadata": {
    "execution": {
     "iopub.status.busy": "2023-11-05T18:08:37.325712Z",
     "iopub.execute_input": "2023-11-05T18:08:37.326084Z",
     "iopub.status.idle": "2023-11-05T18:08:37.790362Z",
     "shell.execute_reply.started": "2023-11-05T18:08:37.326046Z",
     "shell.execute_reply": "2023-11-05T18:08:37.789443Z"
    },
    "trusted": true
   },
   "execution_count": 126,
   "outputs": [
    {
     "execution_count": 126,
     "output_type": "execute_result",
     "data": {
      "text/plain": "array([['if Alkar floods her with her mental waste it would explain the high levels of neurotransmitter',\n        'If Alkar is flooding her with psychic waste that explains the high level of neurotransmitters'],\n       ['youre becoming disgusting', 'Now youre getting nasty'],\n       ['well we can spare your life',\n        'Well we could spare your life for one'],\n       ...,\n       ['What a fucking joke', 'really funny'],\n       ['we killed those two', 'We have two slain'],\n       ['to hell with a world where you cant even trust dogs',\n        'A hell of a world where you could not trust dogs']], dtype=object)"
     },
     "metadata": {}
    }
   ]
  },
  {
   "cell_type": "code",
   "source": [
    "for i in range(len(deu_eng)):\n",
    "    deu_eng[i,0] = deu_eng[i,0].lower()\n",
    "    deu_eng[i,1] = deu_eng[i,1].lower()"
   ],
   "metadata": {
    "execution": {
     "iopub.status.busy": "2023-11-05T18:08:37.791773Z",
     "iopub.execute_input": "2023-11-05T18:08:37.792160Z",
     "iopub.status.idle": "2023-11-05T18:08:37.868634Z",
     "shell.execute_reply.started": "2023-11-05T18:08:37.792121Z",
     "shell.execute_reply": "2023-11-05T18:08:37.867960Z"
    },
    "trusted": true
   },
   "execution_count": 127,
   "outputs": []
  },
  {
   "cell_type": "code",
   "source": [
    "def tokenization(lines):\n",
    "    tokenizer = Tokenizer()\n",
    "    tokenizer.fit_on_texts(lines)\n",
    "    return tokenizer"
   ],
   "metadata": {
    "execution": {
     "iopub.status.busy": "2023-11-05T18:08:38.430977Z",
     "iopub.execute_input": "2023-11-05T18:08:38.431255Z",
     "iopub.status.idle": "2023-11-05T18:08:38.435381Z",
     "shell.execute_reply.started": "2023-11-05T18:08:38.431227Z",
     "shell.execute_reply": "2023-11-05T18:08:38.434447Z"
    },
    "trusted": true
   },
   "execution_count": 129,
   "outputs": []
  },
  {
   "cell_type": "code",
   "source": [
    "# prepare english tokenizer\n",
    "eng_tokenizer = tokenization(deu_eng[:, 0])\n",
    "eng_vocab_size = len(eng_tokenizer.word_index) + 1\n",
    "\n",
    "eng_length = 8\n",
    "print('English Vocabulary Size: %d' % eng_vocab_size)"
   ],
   "metadata": {
    "execution": {
     "iopub.status.busy": "2023-11-05T18:08:38.436549Z",
     "iopub.execute_input": "2023-11-05T18:08:38.436883Z",
     "iopub.status.idle": "2023-11-05T18:08:39.367205Z",
     "shell.execute_reply.started": "2023-11-05T18:08:38.436854Z",
     "shell.execute_reply": "2023-11-05T18:08:39.366251Z"
    },
    "trusted": true
   },
   "execution_count": 130,
   "outputs": [
    {
     "name": "stdout",
     "text": "English Vocabulary Size: 25650\n",
     "output_type": "stream"
    }
   ]
  },
  {
   "cell_type": "code",
   "source": [
    "deu_tokenizer = tokenization(deu_eng[:, 1])\n",
    "deu_vocab_size = len(deu_tokenizer.word_index) + 1\n",
    "\n",
    "deu_length = 8\n",
    "print('Deutch Vocabulary Size: %d' % deu_vocab_size)"
   ],
   "metadata": {
    "execution": {
     "iopub.status.busy": "2023-11-05T18:08:39.368303Z",
     "iopub.execute_input": "2023-11-05T18:08:39.368566Z",
     "iopub.status.idle": "2023-11-05T18:08:40.291014Z",
     "shell.execute_reply.started": "2023-11-05T18:08:39.368540Z",
     "shell.execute_reply": "2023-11-05T18:08:40.289992Z"
    },
    "trusted": true
   },
   "execution_count": 131,
   "outputs": [
    {
     "name": "stdout",
     "text": "Deutch Vocabulary Size: 27708\n",
     "output_type": "stream"
    }
   ]
  },
  {
   "cell_type": "code",
   "source": [
    "def encode_sequences(tokenizer, length, lines):\n",
    "    seq = tokenizer.texts_to_sequences(lines)\n",
    "\n",
    "    seq = pad_sequences(seq, maxlen=length, padding='post')\n",
    "    return seq"
   ],
   "metadata": {
    "execution": {
     "iopub.status.busy": "2023-11-05T18:08:40.292093Z",
     "iopub.execute_input": "2023-11-05T18:08:40.292360Z",
     "iopub.status.idle": "2023-11-05T18:08:40.296730Z",
     "shell.execute_reply.started": "2023-11-05T18:08:40.292334Z",
     "shell.execute_reply": "2023-11-05T18:08:40.295809Z"
    },
    "trusted": true
   },
   "execution_count": 132,
   "outputs": []
  },
  {
   "cell_type": "code",
   "source": [
    "from sklearn.model_selection import train_test_split\n",
    "\n",
    "train, test = train_test_split(deu_eng, test_size=0.2, random_state = 12)"
   ],
   "metadata": {
    "execution": {
     "iopub.status.busy": "2023-11-05T18:08:40.298297Z",
     "iopub.execute_input": "2023-11-05T18:08:40.298611Z",
     "iopub.status.idle": "2023-11-05T18:08:40.319344Z",
     "shell.execute_reply.started": "2023-11-05T18:08:40.298558Z",
     "shell.execute_reply": "2023-11-05T18:08:40.318633Z"
    },
    "trusted": true
   },
   "execution_count": 133,
   "outputs": []
  },
  {
   "cell_type": "code",
   "source": [
    "trainX = encode_sequences(deu_tokenizer, deu_length, train[:, 1])\n",
    "trainY = encode_sequences(eng_tokenizer, eng_length, train[:, 0])\n",
    "\n",
    "testX = encode_sequences(deu_tokenizer, deu_length, test[:, 1])\n",
    "testY = encode_sequences(eng_tokenizer, eng_length, test[:, 0])"
   ],
   "metadata": {
    "execution": {
     "iopub.status.busy": "2023-11-05T18:08:40.320623Z",
     "iopub.execute_input": "2023-11-05T18:08:40.320922Z",
     "iopub.status.idle": "2023-11-05T18:08:42.539917Z",
     "shell.execute_reply.started": "2023-11-05T18:08:40.320894Z",
     "shell.execute_reply": "2023-11-05T18:08:42.539133Z"
    },
    "trusted": true
   },
   "execution_count": 134,
   "outputs": []
  },
  {
   "cell_type": "markdown",
   "source": [
    "<h1> Define the Model</h1>"
   ],
   "metadata": {}
  },
  {
   "cell_type": "code",
   "source": [
    "def define_model(in_vocab,out_vocab, in_timesteps,out_timesteps,units):\n",
    "    model = Sequential()\n",
    "    model.add(Embedding(in_vocab, units, input_length=in_timesteps, mask_zero=True))\n",
    "    model.add(LSTM(units))\n",
    "    model.add(RepeatVector(out_timesteps))\n",
    "    model.add(LSTM(units, return_sequences=True))\n",
    "    model.add(Dense(out_vocab, activation='softmax'))\n",
    "    return model"
   ],
   "metadata": {
    "execution": {
     "iopub.status.busy": "2023-11-05T18:08:42.541076Z",
     "iopub.execute_input": "2023-11-05T18:08:42.541369Z",
     "iopub.status.idle": "2023-11-05T18:08:42.546903Z",
     "shell.execute_reply.started": "2023-11-05T18:08:42.541340Z",
     "shell.execute_reply": "2023-11-05T18:08:42.545943Z"
    },
    "trusted": true
   },
   "execution_count": 135,
   "outputs": []
  },
  {
   "cell_type": "code",
   "source": [
    "model = define_model(deu_vocab_size, eng_vocab_size, deu_length, eng_length, 512)"
   ],
   "metadata": {
    "execution": {
     "iopub.status.busy": "2023-11-05T18:08:42.548430Z",
     "iopub.execute_input": "2023-11-05T18:08:42.548926Z",
     "iopub.status.idle": "2023-11-05T18:08:44.338814Z",
     "shell.execute_reply.started": "2023-11-05T18:08:42.548854Z",
     "shell.execute_reply": "2023-11-05T18:08:44.337849Z"
    },
    "trusted": true
   },
   "execution_count": 136,
   "outputs": []
  },
  {
   "cell_type": "code",
   "source": [
    "rms = optimizers.RMSprop(lr=0.001)\n",
    "model.compile(optimizer=rms, loss='sparse_categorical_crossentropy')"
   ],
   "metadata": {
    "execution": {
     "iopub.status.busy": "2023-11-05T18:08:44.340197Z",
     "iopub.execute_input": "2023-11-05T18:08:44.340565Z",
     "iopub.status.idle": "2023-11-05T18:08:44.360299Z",
     "shell.execute_reply.started": "2023-11-05T18:08:44.340525Z",
     "shell.execute_reply": "2023-11-05T18:08:44.359210Z"
    },
    "trusted": true
   },
   "execution_count": 137,
   "outputs": []
  },
  {
   "cell_type": "code",
   "source": [
    "filename = 'model.h1.24_jan_19'\n",
    "checkpoint = ModelCheckpoint(filename, monitor='val_loss', verbose=1, save_best_only=True, mode='min')\n",
    "\n",
    "history = model.fit(trainX, trainY.reshape(trainY.shape[0], trainY.shape[1], 1),\n",
    "                    epochs=30, batch_size=64, validation_split = 0.1, callbacks=[checkpoint], \n",
    "                    verbose=1)"
   ],
   "metadata": {
    "execution": {
     "iopub.status.busy": "2023-11-05T18:08:44.361497Z",
     "iopub.execute_input": "2023-11-05T18:08:44.361827Z",
     "iopub.status.idle": "2023-11-05T18:42:48.391560Z",
     "shell.execute_reply.started": "2023-11-05T18:08:44.361797Z",
     "shell.execute_reply": "2023-11-05T18:42:48.390661Z"
    },
    "trusted": true
   },
   "execution_count": 138,
   "outputs": [
    {
     "name": "stdout",
     "text": "Epoch 1/30\n563/563 [==============================] - 71s 118ms/step - loss: 6.1286 - val_loss: 5.5295\n\nEpoch 00001: val_loss improved from inf to 5.52954, saving model to model.h1.24_jan_19\nEpoch 2/30\n563/563 [==============================] - 65s 116ms/step - loss: 5.4392 - val_loss: 5.2956\n\nEpoch 00002: val_loss improved from 5.52954 to 5.29562, saving model to model.h1.24_jan_19\nEpoch 3/30\n563/563 [==============================] - 65s 116ms/step - loss: 5.1665 - val_loss: 5.1639\n\nEpoch 00003: val_loss improved from 5.29562 to 5.16392, saving model to model.h1.24_jan_19\nEpoch 4/30\n563/563 [==============================] - 65s 115ms/step - loss: 4.9289 - val_loss: 5.0475\n\nEpoch 00004: val_loss improved from 5.16392 to 5.04752, saving model to model.h1.24_jan_19\nEpoch 5/30\n563/563 [==============================] - 65s 115ms/step - loss: 4.7188 - val_loss: 4.9808\n\nEpoch 00005: val_loss improved from 5.04752 to 4.98078, saving model to model.h1.24_jan_19\nEpoch 6/30\n563/563 [==============================] - 65s 115ms/step - loss: 4.5281 - val_loss: 4.9036\n\nEpoch 00006: val_loss improved from 4.98078 to 4.90357, saving model to model.h1.24_jan_19\nEpoch 7/30\n563/563 [==============================] - 64s 114ms/step - loss: 4.3376 - val_loss: 4.9139\n\nEpoch 00007: val_loss did not improve from 4.90357\nEpoch 8/30\n563/563 [==============================] - 65s 115ms/step - loss: 4.2049 - val_loss: 4.9362\n\nEpoch 00008: val_loss did not improve from 4.90357\nEpoch 9/30\n563/563 [==============================] - 65s 115ms/step - loss: 4.0054 - val_loss: 4.9458\n\nEpoch 00009: val_loss did not improve from 4.90357\nEpoch 10/30\n563/563 [==============================] - 65s 115ms/step - loss: 3.8474 - val_loss: 5.0027\n\nEpoch 00010: val_loss did not improve from 4.90357\nEpoch 11/30\n563/563 [==============================] - 65s 115ms/step - loss: 3.6684 - val_loss: 5.1004\n\nEpoch 00011: val_loss did not improve from 4.90357\nEpoch 12/30\n563/563 [==============================] - 65s 115ms/step - loss: 3.5290 - val_loss: 5.2256\n\nEpoch 00012: val_loss did not improve from 4.90357\nEpoch 13/30\n563/563 [==============================] - 65s 115ms/step - loss: 3.3711 - val_loss: 5.2963\n\nEpoch 00013: val_loss did not improve from 4.90357\nEpoch 14/30\n563/563 [==============================] - 65s 115ms/step - loss: 3.2043 - val_loss: 5.4590\n\nEpoch 00014: val_loss did not improve from 4.90357\nEpoch 15/30\n563/563 [==============================] - 66s 117ms/step - loss: 3.0619 - val_loss: 5.6062\n\nEpoch 00015: val_loss did not improve from 4.90357\nEpoch 16/30\n563/563 [==============================] - 66s 117ms/step - loss: 2.9562 - val_loss: 5.7352\n\nEpoch 00016: val_loss did not improve from 4.90357\nEpoch 17/30\n563/563 [==============================] - 66s 117ms/step - loss: 2.8417 - val_loss: 5.9320\n\nEpoch 00017: val_loss did not improve from 4.90357\nEpoch 18/30\n563/563 [==============================] - 66s 117ms/step - loss: 2.7412 - val_loss: 6.0714\n\nEpoch 00018: val_loss did not improve from 4.90357\nEpoch 19/30\n563/563 [==============================] - 66s 116ms/step - loss: 2.6395 - val_loss: 6.1559\n\nEpoch 00019: val_loss did not improve from 4.90357\nEpoch 20/30\n563/563 [==============================] - 65s 116ms/step - loss: 2.5310 - val_loss: 6.2732\n\nEpoch 00020: val_loss did not improve from 4.90357\nEpoch 21/30\n563/563 [==============================] - 65s 116ms/step - loss: 2.4368 - val_loss: 6.3787\n\nEpoch 00021: val_loss did not improve from 4.90357\nEpoch 22/30\n563/563 [==============================] - 66s 116ms/step - loss: 2.3454 - val_loss: 6.5146\n\nEpoch 00022: val_loss did not improve from 4.90357\nEpoch 23/30\n563/563 [==============================] - 65s 116ms/step - loss: 2.2645 - val_loss: 6.5908\n\nEpoch 00023: val_loss did not improve from 4.90357\nEpoch 24/30\n563/563 [==============================] - 65s 116ms/step - loss: 2.2102 - val_loss: 6.7174\n\nEpoch 00024: val_loss did not improve from 4.90357\nEpoch 25/30\n563/563 [==============================] - 65s 116ms/step - loss: 2.1356 - val_loss: 6.8407\n\nEpoch 00025: val_loss did not improve from 4.90357\nEpoch 26/30\n563/563 [==============================] - 65s 116ms/step - loss: 2.0701 - val_loss: 6.8895\n\nEpoch 00026: val_loss did not improve from 4.90357\nEpoch 27/30\n563/563 [==============================] - 65s 116ms/step - loss: 1.9914 - val_loss: 6.9715\n\nEpoch 00027: val_loss did not improve from 4.90357\nEpoch 28/30\n563/563 [==============================] - 66s 116ms/step - loss: 1.9055 - val_loss: 7.1113\n\nEpoch 00028: val_loss did not improve from 4.90357\nEpoch 29/30\n563/563 [==============================] - 66s 117ms/step - loss: 1.8581 - val_loss: 7.1804\n\nEpoch 00029: val_loss did not improve from 4.90357\nEpoch 30/30\n563/563 [==============================] - 65s 116ms/step - loss: 1.8003 - val_loss: 7.2347\n\nEpoch 00030: val_loss did not improve from 4.90357\n",
     "output_type": "stream"
    }
   ]
  },
  {
   "cell_type": "code",
   "source": [
    "plt.plot(history.history['loss'])\n",
    "plt.plot(history.history['val_loss'])\n",
    "plt.legend(['train','validation'])\n",
    "plt.show()"
   ],
   "metadata": {
    "execution": {
     "iopub.status.busy": "2023-11-05T18:42:48.393404Z",
     "iopub.execute_input": "2023-11-05T18:42:48.393729Z",
     "iopub.status.idle": "2023-11-05T18:42:48.564006Z",
     "shell.execute_reply.started": "2023-11-05T18:42:48.393697Z",
     "shell.execute_reply": "2023-11-05T18:42:48.563136Z"
    },
    "trusted": true
   },
   "execution_count": 139,
   "outputs": [
    {
     "output_type": "display_data",
     "data": {
      "text/plain": "<Figure size 432x288 with 1 Axes>",
      "image/png": "[encoded data removed]"
     },
     "metadata": {
      "needs_background": "light"
     }
    }
   ]
  },
  {
   "cell_type": "markdown",
   "source": [
    "<h1> Prediction on unseen data</h1>"
   ],
   "metadata": {}
  },
  {
   "cell_type": "code",
   "source": [
    "print(testX[0])"
   ],
   "metadata": {
    "execution": {
     "iopub.status.busy": "2023-11-05T18:42:48.565358Z",
     "iopub.execute_input": "2023-11-05T18:42:48.565737Z",
     "iopub.status.idle": "2023-11-05T18:42:48.570594Z",
     "shell.execute_reply.started": "2023-11-05T18:42:48.565699Z",
     "shell.execute_reply": "2023-11-05T18:42:48.569666Z"
    },
    "trusted": true
   },
   "execution_count": 140,
   "outputs": [
    {
     "name": "stdout",
     "text": "[ 141    4  122    1 2565    8   33  262]\n",
     "output_type": "stream"
    }
   ]
  },
  {
   "cell_type": "code",
   "source": [
    "model = load_model('model.h1.24_jan_19')\n",
    "tX = testX.reshape((testX.shape[0],testX.shape[1]))"
   ],
   "metadata": {
    "execution": {
     "iopub.status.busy": "2023-11-05T18:42:48.571929Z",
     "iopub.execute_input": "2023-11-05T18:42:48.572295Z",
     "iopub.status.idle": "2023-11-05T18:42:57.351474Z",
     "shell.execute_reply.started": "2023-11-05T18:42:48.572257Z",
     "shell.execute_reply": "2023-11-05T18:42:57.350518Z"
    },
    "trusted": true
   },
   "execution_count": 141,
   "outputs": []
  },
  {
   "cell_type": "code",
   "source": [
    "preds = model.predict_classes(tX[:3,:])"
   ],
   "metadata": {
    "execution": {
     "iopub.status.busy": "2023-11-05T18:42:57.357147Z",
     "iopub.execute_input": "2023-11-05T18:42:57.357456Z",
     "iopub.status.idle": "2023-11-05T18:42:58.808345Z",
     "shell.execute_reply.started": "2023-11-05T18:42:57.357426Z",
     "shell.execute_reply": "2023-11-05T18:42:58.807474Z"
    },
    "trusted": true
   },
   "execution_count": 142,
   "outputs": [
    {
     "name": "stderr",
     "text": "/opt/conda/lib/python3.7/site-packages/tensorflow/python/keras/engine/sequential.py:450: UserWarning: `model.predict_classes()` is deprecated and will be removed after 2021-01-01. Please use instead:* `np.argmax(model.predict(x), axis=-1)`,   if your model does multi-class classification   (e.g. if it uses a `softmax` last-layer activation).* `(model.predict(x) > 0.5).astype(\"int32\")`,   if your model does binary classification   (e.g. if it uses a `sigmoid` last-layer activation).\n  warnings.warn('`model.predict_classes()` is deprecated and '\n",
     "output_type": "stream"
    }
   ]
  },
  {
   "cell_type": "code",
   "source": [
    "def get_word(n, tokenizer):\n",
    "    for word, index in tokenizer.word_index.items():\n",
    "        if index == n:\n",
    "            return word\n",
    "    return None"
   ],
   "metadata": {
    "execution": {
     "iopub.status.busy": "2023-11-05T18:42:58.811741Z",
     "iopub.execute_input": "2023-11-05T18:42:58.812012Z",
     "iopub.status.idle": "2023-11-05T18:42:58.816799Z",
     "shell.execute_reply.started": "2023-11-05T18:42:58.811985Z",
     "shell.execute_reply": "2023-11-05T18:42:58.815809Z"
    },
    "trusted": true
   },
   "execution_count": 143,
   "outputs": []
  },
  {
   "cell_type": "code",
   "source": [
    "preds_text = []\n",
    "for i in preds:\n",
    "    temp = []\n",
    "    for j in range(len(i)):\n",
    "        t = get_word(i[j], eng_tokenizer)\n",
    "        if j > 0:\n",
    "            if (t == get_word(i[j-1], eng_tokenizer)) or (t == None):\n",
    "                temp.append('')\n",
    "            else:\n",
    "                temp.append(t)\n",
    "        else:\n",
    "            if(t == None):\n",
    "                temp.append('')\n",
    "            else:\n",
    "                temp.append(t) \n",
    "\n",
    "    preds_text.append(' '.join(temp))"
   ],
   "metadata": {
    "execution": {
     "iopub.status.busy": "2023-11-05T18:42:58.818361Z",
     "iopub.execute_input": "2023-11-05T18:42:58.818788Z",
     "iopub.status.idle": "2023-11-05T18:42:58.841748Z",
     "shell.execute_reply.started": "2023-11-05T18:42:58.818748Z",
     "shell.execute_reply": "2023-11-05T18:42:58.840805Z"
    },
    "trusted": true
   },
   "execution_count": 144,
   "outputs": []
  },
  {
   "cell_type": "code",
   "source": [
    "pred_df = pd.DataFrame({'actual' : test[:3,0], 'predicted' : preds_text})"
   ],
   "metadata": {
    "execution": {
     "iopub.status.busy": "2023-11-05T18:42:58.842963Z",
     "iopub.execute_input": "2023-11-05T18:42:58.843339Z",
     "iopub.status.idle": "2023-11-05T18:42:58.857971Z",
     "shell.execute_reply.started": "2023-11-05T18:42:58.843307Z",
     "shell.execute_reply": "2023-11-05T18:42:58.857197Z"
    },
    "trusted": true
   },
   "execution_count": 145,
   "outputs": []
  },
  {
   "cell_type": "code",
   "source": [
    "pred_df.head(15)"
   ],
   "metadata": {
    "execution": {
     "iopub.status.busy": "2023-11-05T18:42:58.859112Z",
     "iopub.execute_input": "2023-11-05T18:42:58.859444Z",
     "iopub.status.idle": "2023-11-05T18:42:58.874999Z",
     "shell.execute_reply.started": "2023-11-05T18:42:58.859418Z",
     "shell.execute_reply": "2023-11-05T18:42:58.874021Z"
    },
    "trusted": true
   },
   "execution_count": 146,
   "outputs": [
    {
     "execution_count": 146,
     "output_type": "execute_result",
     "data": {
      "text/plain": "                                                                      actual  \\\n0                    if you want to be certain shoot the gun into your mouth   \n1  you risk your neck to cut them loose and they run away and dont look back   \n2                   if you got any brains youll break now and dont look back   \n\n               predicted  \n0    the a   his in his   \n1  and     dont not back  \n2         and      back   ",
      "text/html": "<div>\n<style scoped>\n    .dataframe tbody tr th:only-of-type {\n        vertical-align: middle;\n    }\n\n    .dataframe tbody tr th {\n        vertical-align: top;\n    }\n\n    .dataframe thead th {\n        text-align: right;\n    }\n</style>\n<table border=\"1\" class=\"dataframe\">\n  <thead>\n    <tr style=\"text-align: right;\">\n      <th></th>\n      <th>actual</th>\n      <th>predicted</th>\n    </tr>\n  </thead>\n  <tbody>\n    <tr>\n      <th>0</th>\n      <td>if you want to be certain shoot the gun into your mouth</td>\n      <td>the a   his in his</td>\n    </tr>\n    <tr>\n      <th>1</th>\n      <td>you risk your neck to cut them loose and they run away and dont look back</td>\n      <td>and     dont not back</td>\n    </tr>\n    <tr>\n      <th>2</th>\n      <td>if you got any brains youll break now and dont look back</td>\n      <td>and      back</td>\n    </tr>\n  </tbody>\n</table>\n</div>"
     },
     "metadata": {}
    }
   ]
  }
 ]
}
