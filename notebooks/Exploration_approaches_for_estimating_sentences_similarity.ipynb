{
 "cells": [
  {
   "cell_type": "code",
   "execution_count": 63,
   "outputs": [],
   "source": [
    "tests = [[\"The cat is on the mat.\", \"A cat sits on the mat.\"], [\"The dog is on the table!\", \"asodfasjdg jsajasj sadj sdjdfg?\"]]\n",
    "import numpy as np"
   ],
   "metadata": {
    "collapsed": false
   }
  },
  {
   "cell_type": "markdown",
   "source": [
    "Check similarity using bert model"
   ],
   "metadata": {
    "collapsed": false
   }
  },
  {
   "cell_type": "code",
   "execution_count": 64,
   "outputs": [
    {
     "name": "stderr",
     "output_type": "stream",
     "text": [
      "Some weights of the model checkpoint at bert-base-uncased were not used when initializing BertModel: ['cls.predictions.bias', 'cls.predictions.transform.dense.bias', 'cls.seq_relationship.bias', 'cls.predictions.transform.LayerNorm.weight', 'cls.predictions.transform.LayerNorm.bias', 'cls.predictions.transform.dense.weight', 'cls.seq_relationship.weight']\n",
      "- This IS expected if you are initializing BertModel from the checkpoint of a model trained on another task or with another architecture (e.g. initializing a BertForSequenceClassification model from a BertForPreTraining model).\n",
      "- This IS NOT expected if you are initializing BertModel from the checkpoint of a model that you expect to be exactly identical (initializing a BertForSequenceClassification model from a BertForSequenceClassification model).\n"
     ]
    }
   ],
   "source": [
    "from transformers import BertTokenizer, BertModel\n",
    "import torch\n",
    "from sklearn.metrics.pairwise import cosine_similarity\n",
    "\n",
    "tokenizer = BertTokenizer.from_pretrained('bert-base-uncased')\n",
    "model = BertModel.from_pretrained('bert-base-uncased')"
   ],
   "metadata": {
    "collapsed": false
   }
  },
  {
   "cell_type": "code",
   "execution_count": 75,
   "outputs": [
    {
     "name": "stdout",
     "output_type": "stream",
     "text": [
      "[[0.87389827]]\n",
      "[[0.4207521]]\n"
     ]
    }
   ],
   "source": [
    "def check_similarity(sentences):\n",
    "    tokens1 = tokenizer(sentences[0], return_tensors=\"pt\")\n",
    "    tokens2 = tokenizer(sentences[1], return_tensors=\"pt\")\n",
    "\n",
    "    with torch.no_grad():\n",
    "        embeddings1 = model(**tokens1).last_hidden_state.mean(dim=1)\n",
    "        embeddings2 = model(**tokens2).last_hidden_state.mean(dim=1)\n",
    "\n",
    "    norm_embeddings1 = embeddings1 / np.linalg.norm(embeddings1, axis=1)\n",
    "    norm_embeddings2 = embeddings2 / np.linalg.norm(embeddings2, axis=1)\n",
    "    similarity = cosine_similarity(norm_embeddings1, norm_embeddings2)\n",
    "    return similarity\n",
    "for i in tests:\n",
    "    print(check_similarity(i))"
   ],
   "metadata": {
    "collapsed": false
   }
  },
  {
   "cell_type": "markdown",
   "source": [
    "Not impressing... :("
   ],
   "metadata": {
    "collapsed": false
   }
  },
  {
   "cell_type": "markdown",
   "source": [
    "Check sentence-transformers model(SBERT)"
   ],
   "metadata": {
    "collapsed": false
   }
  },
  {
   "cell_type": "code",
   "execution_count": 59,
   "outputs": [],
   "source": [
    "# !pip install -U sentence-transformers"
   ],
   "metadata": {
    "collapsed": false
   }
  },
  {
   "cell_type": "code",
   "execution_count": 60,
   "outputs": [],
   "source": [
    "from sentence_transformers import SentenceTransformer"
   ],
   "metadata": {
    "collapsed": false
   }
  },
  {
   "cell_type": "code",
   "execution_count": 80,
   "outputs": [
    {
     "name": "stdout",
     "output_type": "stream",
     "text": [
      "0.9056173\n",
      "0.060973637\n"
     ]
    }
   ],
   "source": [
    "def check_similarity(sentences):\n",
    "    model = SentenceTransformer('sentence-transformers/all-MiniLM-L6-v2')\n",
    "    embedding_1 = model.encode([sentences[0]], convert_to_tensor=True)\n",
    "    embedding_2 = model.encode([sentences[1]], convert_to_tensor=True)\n",
    "    return cosine_similarity(embedding_1, embedding_2)[0][0]\n",
    "\n",
    "for i in tests:\n",
    "    print(check_similarity(i))"
   ],
   "metadata": {
    "collapsed": false
   }
  },
  {
   "cell_type": "markdown",
   "source": [
    "Much better than bert! So, I think I choose this"
   ],
   "metadata": {
    "collapsed": false
   }
  }
 ],
 "metadata": {
  "kernelspec": {
   "display_name": "Python 3",
   "language": "python",
   "name": "python3"
  },
  "language_info": {
   "codemirror_mode": {
    "name": "ipython",
    "version": 2
   },
   "file_extension": ".py",
   "mimetype": "text/x-python",
   "name": "python",
   "nbconvert_exporter": "python",
   "pygments_lexer": "ipython2",
   "version": "2.7.6"
  }
 },
 "nbformat": 4,
 "nbformat_minor": 0
}
