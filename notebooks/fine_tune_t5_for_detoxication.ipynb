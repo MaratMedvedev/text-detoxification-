{
 "metadata": {
  "kernelspec": {
   "name": "python3",
   "display_name": "Python 3",
   "language": "python"
  },
  "language_info": {
   "name": "python",
   "version": "3.10.12",
   "mimetype": "text/x-python",
   "codemirror_mode": {
    "name": "ipython",
    "version": 3
   },
   "pygments_lexer": "ipython3",
   "nbconvert_exporter": "python",
   "file_extension": ".py"
  },
  "colab": {
   "provenance": [],
   "gpuType": "T4"
  },
  "accelerator": "GPU",
  "widgets": {
   "application/vnd.jupyter.widget-state+json": {
    "2a24f632f828440bbcb3bc22d7c432f4": {
     "model_module": "@jupyter-widgets/controls",
     "model_name": "HBoxModel",
     "model_module_version": "1.5.0",
     "state": {
      "_dom_classes": [],
      "_model_module": "@jupyter-widgets/controls",
      "_model_module_version": "1.5.0",
      "_model_name": "HBoxModel",
      "_view_count": null,
      "_view_module": "@jupyter-widgets/controls",
      "_view_module_version": "1.5.0",
      "_view_name": "HBoxView",
      "box_style": "",
      "children": [
       "IPY_MODEL_607a63ed5ff947fa98691887f02dca04",
       "IPY_MODEL_bb6fb93748f7430ab2e04c07f3968a69",
       "IPY_MODEL_2c457540ed2746d1b16f8dd946809cbd"
      ],
      "layout": "IPY_MODEL_40b847aae4f34d31b889381a00442f3e"
     }
    },
    "607a63ed5ff947fa98691887f02dca04": {
     "model_module": "@jupyter-widgets/controls",
     "model_name": "HTMLModel",
     "model_module_version": "1.5.0",
     "state": {
      "_dom_classes": [],
      "_model_module": "@jupyter-widgets/controls",
      "_model_module_version": "1.5.0",
      "_model_name": "HTMLModel",
      "_view_count": null,
      "_view_module": "@jupyter-widgets/controls",
      "_view_module_version": "1.5.0",
      "_view_name": "HTMLView",
      "description": "",
      "description_tooltip": null,
      "layout": "IPY_MODEL_9865dae69b7a488ba7903dbb129bcd12",
      "placeholder": "​",
      "style": "IPY_MODEL_945c5e7d257c4d78bf187f57806da7ea",
      "value": "Validation sanity check: 100%"
     }
    },
    "bb6fb93748f7430ab2e04c07f3968a69": {
     "model_module": "@jupyter-widgets/controls",
     "model_name": "FloatProgressModel",
     "model_module_version": "1.5.0",
     "state": {
      "_dom_classes": [],
      "_model_module": "@jupyter-widgets/controls",
      "_model_module_version": "1.5.0",
      "_model_name": "FloatProgressModel",
      "_view_count": null,
      "_view_module": "@jupyter-widgets/controls",
      "_view_module_version": "1.5.0",
      "_view_name": "ProgressView",
      "bar_style": "",
      "description": "",
      "description_tooltip": null,
      "layout": "IPY_MODEL_80f16636451b48e08e731d0c41929bc3",
      "max": 2,
      "min": 0,
      "orientation": "horizontal",
      "style": "IPY_MODEL_f50c4253c06d46cf9f306612751854df",
      "value": 2
     }
    },
    "2c457540ed2746d1b16f8dd946809cbd": {
     "model_module": "@jupyter-widgets/controls",
     "model_name": "HTMLModel",
     "model_module_version": "1.5.0",
     "state": {
      "_dom_classes": [],
      "_model_module": "@jupyter-widgets/controls",
      "_model_module_version": "1.5.0",
      "_model_name": "HTMLModel",
      "_view_count": null,
      "_view_module": "@jupyter-widgets/controls",
      "_view_module_version": "1.5.0",
      "_view_name": "HTMLView",
      "description": "",
      "description_tooltip": null,
      "layout": "IPY_MODEL_fa98663c663746ab88a7ac74c90d5a0f",
      "placeholder": "​",
      "style": "IPY_MODEL_d80ded44b3044126a11d7737d79b61c6",
      "value": " 2/2 [00:00&lt;00:00,  2.87it/s]"
     }
    },
    "40b847aae4f34d31b889381a00442f3e": {
     "model_module": "@jupyter-widgets/base",
     "model_name": "LayoutModel",
     "model_module_version": "1.2.0",
     "state": {
      "_model_module": "@jupyter-widgets/base",
      "_model_module_version": "1.2.0",
      "_model_name": "LayoutModel",
      "_view_count": null,
      "_view_module": "@jupyter-widgets/base",
      "_view_module_version": "1.2.0",
      "_view_name": "LayoutView",
      "align_content": null,
      "align_items": null,
      "align_self": null,
      "border": null,
      "bottom": null,
      "display": "inline-flex",
      "flex": null,
      "flex_flow": "row wrap",
      "grid_area": null,
      "grid_auto_columns": null,
      "grid_auto_flow": null,
      "grid_auto_rows": null,
      "grid_column": null,
      "grid_gap": null,
      "grid_row": null,
      "grid_template_areas": null,
      "grid_template_columns": null,
      "grid_template_rows": null,
      "height": null,
      "justify_content": null,
      "justify_items": null,
      "left": null,
      "margin": null,
      "max_height": null,
      "max_width": null,
      "min_height": null,
      "min_width": null,
      "object_fit": null,
      "object_position": null,
      "order": null,
      "overflow": null,
      "overflow_x": null,
      "overflow_y": null,
      "padding": null,
      "right": null,
      "top": null,
      "visibility": "hidden",
      "width": "100%"
     }
    },
    "9865dae69b7a488ba7903dbb129bcd12": {
     "model_module": "@jupyter-widgets/base",
     "model_name": "LayoutModel",
     "model_module_version": "1.2.0",
     "state": {
      "_model_module": "@jupyter-widgets/base",
      "_model_module_version": "1.2.0",
      "_model_name": "LayoutModel",
      "_view_count": null,
      "_view_module": "@jupyter-widgets/base",
      "_view_module_version": "1.2.0",
      "_view_name": "LayoutView",
      "align_content": null,
      "align_items": null,
      "align_self": null,
      "border": null,
      "bottom": null,
      "display": null,
      "flex": null,
      "flex_flow": null,
      "grid_area": null,
      "grid_auto_columns": null,
      "grid_auto_flow": null,
      "grid_auto_rows": null,
      "grid_column": null,
      "grid_gap": null,
      "grid_row": null,
      "grid_template_areas": null,
      "grid_template_columns": null,
      "grid_template_rows": null,
      "height": null,
      "justify_content": null,
      "justify_items": null,
      "left": null,
      "margin": null,
      "max_height": null,
      "max_width": null,
      "min_height": null,
      "min_width": null,
      "object_fit": null,
      "object_position": null,
      "order": null,
      "overflow": null,
      "overflow_x": null,
      "overflow_y": null,
      "padding": null,
      "right": null,
      "top": null,
      "visibility": null,
      "width": null
     }
    },
    "945c5e7d257c4d78bf187f57806da7ea": {
     "model_module": "@jupyter-widgets/controls",
     "model_name": "DescriptionStyleModel",
     "model_module_version": "1.5.0",
     "state": {
      "_model_module": "@jupyter-widgets/controls",
      "_model_module_version": "1.5.0",
      "_model_name": "DescriptionStyleModel",
      "_view_count": null,
      "_view_module": "@jupyter-widgets/base",
      "_view_module_version": "1.2.0",
      "_view_name": "StyleView",
      "description_width": ""
     }
    },
    "80f16636451b48e08e731d0c41929bc3": {
     "model_module": "@jupyter-widgets/base",
     "model_name": "LayoutModel",
     "model_module_version": "1.2.0",
     "state": {
      "_model_module": "@jupyter-widgets/base",
      "_model_module_version": "1.2.0",
      "_model_name": "LayoutModel",
      "_view_count": null,
      "_view_module": "@jupyter-widgets/base",
      "_view_module_version": "1.2.0",
      "_view_name": "LayoutView",
      "align_content": null,
      "align_items": null,
      "align_self": null,
      "border": null,
      "bottom": null,
      "display": null,
      "flex": "2",
      "flex_flow": null,
      "grid_area": null,
      "grid_auto_columns": null,
      "grid_auto_flow": null,
      "grid_auto_rows": null,
      "grid_column": null,
      "grid_gap": null,
      "grid_row": null,
      "grid_template_areas": null,
      "grid_template_columns": null,
      "grid_template_rows": null,
      "height": null,
      "justify_content": null,
      "justify_items": null,
      "left": null,
      "margin": null,
      "max_height": null,
      "max_width": null,
      "min_height": null,
      "min_width": null,
      "object_fit": null,
      "object_position": null,
      "order": null,
      "overflow": null,
      "overflow_x": null,
      "overflow_y": null,
      "padding": null,
      "right": null,
      "top": null,
      "visibility": null,
      "width": null
     }
    },
    "f50c4253c06d46cf9f306612751854df": {
     "model_module": "@jupyter-widgets/controls",
     "model_name": "ProgressStyleModel",
     "model_module_version": "1.5.0",
     "state": {
      "_model_module": "@jupyter-widgets/controls",
      "_model_module_version": "1.5.0",
      "_model_name": "ProgressStyleModel",
      "_view_count": null,
      "_view_module": "@jupyter-widgets/base",
      "_view_module_version": "1.2.0",
      "_view_name": "StyleView",
      "bar_color": null,
      "description_width": ""
     }
    },
    "fa98663c663746ab88a7ac74c90d5a0f": {
     "model_module": "@jupyter-widgets/base",
     "model_name": "LayoutModel",
     "model_module_version": "1.2.0",
     "state": {
      "_model_module": "@jupyter-widgets/base",
      "_model_module_version": "1.2.0",
      "_model_name": "LayoutModel",
      "_view_count": null,
      "_view_module": "@jupyter-widgets/base",
      "_view_module_version": "1.2.0",
      "_view_name": "LayoutView",
      "align_content": null,
      "align_items": null,
      "align_self": null,
      "border": null,
      "bottom": null,
      "display": null,
      "flex": null,
      "flex_flow": null,
      "grid_area": null,
      "grid_auto_columns": null,
      "grid_auto_flow": null,
      "grid_auto_rows": null,
      "grid_column": null,
      "grid_gap": null,
      "grid_row": null,
      "grid_template_areas": null,
      "grid_template_columns": null,
      "grid_template_rows": null,
      "height": null,
      "justify_content": null,
      "justify_items": null,
      "left": null,
      "margin": null,
      "max_height": null,
      "max_width": null,
      "min_height": null,
      "min_width": null,
      "object_fit": null,
      "object_position": null,
      "order": null,
      "overflow": null,
      "overflow_x": null,
      "overflow_y": null,
      "padding": null,
      "right": null,
      "top": null,
      "visibility": null,
      "width": null
     }
    },
    "d80ded44b3044126a11d7737d79b61c6": {
     "model_module": "@jupyter-widgets/controls",
     "model_name": "DescriptionStyleModel",
     "model_module_version": "1.5.0",
     "state": {
      "_model_module": "@jupyter-widgets/controls",
      "_model_module_version": "1.5.0",
      "_model_name": "DescriptionStyleModel",
      "_view_count": null,
      "_view_module": "@jupyter-widgets/base",
      "_view_module_version": "1.2.0",
      "_view_name": "StyleView",
      "description_width": ""
     }
    },
    "059617cef152413a84544d95ac510d62": {
     "model_module": "@jupyter-widgets/controls",
     "model_name": "HBoxModel",
     "model_module_version": "1.5.0",
     "state": {
      "_dom_classes": [],
      "_model_module": "@jupyter-widgets/controls",
      "_model_module_version": "1.5.0",
      "_model_name": "HBoxModel",
      "_view_count": null,
      "_view_module": "@jupyter-widgets/controls",
      "_view_module_version": "1.5.0",
      "_view_name": "HBoxView",
      "box_style": "",
      "children": [
       "IPY_MODEL_e5b29a7122844cd19c6ee17b7d6e65ac",
       "IPY_MODEL_d411c14d4b0d47ab887b9f00a275c34f",
       "IPY_MODEL_e0aa844dc5f54ec599d1185cd78a80d4"
      ],
      "layout": "IPY_MODEL_7ea9e215adb84538884c995966d98135"
     }
    },
    "e5b29a7122844cd19c6ee17b7d6e65ac": {
     "model_module": "@jupyter-widgets/controls",
     "model_name": "HTMLModel",
     "model_module_version": "1.5.0",
     "state": {
      "_dom_classes": [],
      "_model_module": "@jupyter-widgets/controls",
      "_model_module_version": "1.5.0",
      "_model_name": "HTMLModel",
      "_view_count": null,
      "_view_module": "@jupyter-widgets/controls",
      "_view_module_version": "1.5.0",
      "_view_name": "HTMLView",
      "description": "",
      "description_tooltip": null,
      "layout": "IPY_MODEL_6ddf56e3f01c433b900e89040a865f65",
      "placeholder": "​",
      "style": "IPY_MODEL_7fab53701600434c800d609f47efebaa",
      "value": "Epoch 0:  35%"
     }
    },
    "d411c14d4b0d47ab887b9f00a275c34f": {
     "model_module": "@jupyter-widgets/controls",
     "model_name": "FloatProgressModel",
     "model_module_version": "1.5.0",
     "state": {
      "_dom_classes": [],
      "_model_module": "@jupyter-widgets/controls",
      "_model_module_version": "1.5.0",
      "_model_name": "FloatProgressModel",
      "_view_count": null,
      "_view_module": "@jupyter-widgets/controls",
      "_view_module_version": "1.5.0",
      "_view_name": "ProgressView",
      "bar_style": "",
      "description": "",
      "description_tooltip": null,
      "layout": "IPY_MODEL_363a3f75433b4d34964bdcbfd2da546d",
      "max": 1600,
      "min": 0,
      "orientation": "horizontal",
      "style": "IPY_MODEL_aee3ae1fe3504466b17f3c0a83bc8a41",
      "value": 560
     }
    },
    "e0aa844dc5f54ec599d1185cd78a80d4": {
     "model_module": "@jupyter-widgets/controls",
     "model_name": "HTMLModel",
     "model_module_version": "1.5.0",
     "state": {
      "_dom_classes": [],
      "_model_module": "@jupyter-widgets/controls",
      "_model_module_version": "1.5.0",
      "_model_name": "HTMLModel",
      "_view_count": null,
      "_view_module": "@jupyter-widgets/controls",
      "_view_module_version": "1.5.0",
      "_view_name": "HTMLView",
      "description": "",
      "description_tooltip": null,
      "layout": "IPY_MODEL_dd79d9600fed47ba9217ea06ca1156da",
      "placeholder": "​",
      "style": "IPY_MODEL_fd00acb77ca24d29992360123b11916f",
      "value": " 560/1600 [04:52&lt;09:02,  1.92it/s, loss=0.335, v_num=3, train_loss=0.655]"
     }
    },
    "7ea9e215adb84538884c995966d98135": {
     "model_module": "@jupyter-widgets/base",
     "model_name": "LayoutModel",
     "model_module_version": "1.2.0",
     "state": {
      "_model_module": "@jupyter-widgets/base",
      "_model_module_version": "1.2.0",
      "_model_name": "LayoutModel",
      "_view_count": null,
      "_view_module": "@jupyter-widgets/base",
      "_view_module_version": "1.2.0",
      "_view_name": "LayoutView",
      "align_content": null,
      "align_items": null,
      "align_self": null,
      "border": null,
      "bottom": null,
      "display": "inline-flex",
      "flex": null,
      "flex_flow": "row wrap",
      "grid_area": null,
      "grid_auto_columns": null,
      "grid_auto_flow": null,
      "grid_auto_rows": null,
      "grid_column": null,
      "grid_gap": null,
      "grid_row": null,
      "grid_template_areas": null,
      "grid_template_columns": null,
      "grid_template_rows": null,
      "height": null,
      "justify_content": null,
      "justify_items": null,
      "left": null,
      "margin": null,
      "max_height": null,
      "max_width": null,
      "min_height": null,
      "min_width": null,
      "object_fit": null,
      "object_position": null,
      "order": null,
      "overflow": null,
      "overflow_x": null,
      "overflow_y": null,
      "padding": null,
      "right": null,
      "top": null,
      "visibility": null,
      "width": "100%"
     }
    },
    "6ddf56e3f01c433b900e89040a865f65": {
     "model_module": "@jupyter-widgets/base",
     "model_name": "LayoutModel",
     "model_module_version": "1.2.0",
     "state": {
      "_model_module": "@jupyter-widgets/base",
      "_model_module_version": "1.2.0",
      "_model_name": "LayoutModel",
      "_view_count": null,
      "_view_module": "@jupyter-widgets/base",
      "_view_module_version": "1.2.0",
      "_view_name": "LayoutView",
      "align_content": null,
      "align_items": null,
      "align_self": null,
      "border": null,
      "bottom": null,
      "display": null,
      "flex": null,
      "flex_flow": null,
      "grid_area": null,
      "grid_auto_columns": null,
      "grid_auto_flow": null,
      "grid_auto_rows": null,
      "grid_column": null,
      "grid_gap": null,
      "grid_row": null,
      "grid_template_areas": null,
      "grid_template_columns": null,
      "grid_template_rows": null,
      "height": null,
      "justify_content": null,
      "justify_items": null,
      "left": null,
      "margin": null,
      "max_height": null,
      "max_width": null,
      "min_height": null,
      "min_width": null,
      "object_fit": null,
      "object_position": null,
      "order": null,
      "overflow": null,
      "overflow_x": null,
      "overflow_y": null,
      "padding": null,
      "right": null,
      "top": null,
      "visibility": null,
      "width": null
     }
    },
    "7fab53701600434c800d609f47efebaa": {
     "model_module": "@jupyter-widgets/controls",
     "model_name": "DescriptionStyleModel",
     "model_module_version": "1.5.0",
     "state": {
      "_model_module": "@jupyter-widgets/controls",
      "_model_module_version": "1.5.0",
      "_model_name": "DescriptionStyleModel",
      "_view_count": null,
      "_view_module": "@jupyter-widgets/base",
      "_view_module_version": "1.2.0",
      "_view_name": "StyleView",
      "description_width": ""
     }
    },
    "363a3f75433b4d34964bdcbfd2da546d": {
     "model_module": "@jupyter-widgets/base",
     "model_name": "LayoutModel",
     "model_module_version": "1.2.0",
     "state": {
      "_model_module": "@jupyter-widgets/base",
      "_model_module_version": "1.2.0",
      "_model_name": "LayoutModel",
      "_view_count": null,
      "_view_module": "@jupyter-widgets/base",
      "_view_module_version": "1.2.0",
      "_view_name": "LayoutView",
      "align_content": null,
      "align_items": null,
      "align_self": null,
      "border": null,
      "bottom": null,
      "display": null,
      "flex": "2",
      "flex_flow": null,
      "grid_area": null,
      "grid_auto_columns": null,
      "grid_auto_flow": null,
      "grid_auto_rows": null,
      "grid_column": null,
      "grid_gap": null,
      "grid_row": null,
      "grid_template_areas": null,
      "grid_template_columns": null,
      "grid_template_rows": null,
      "height": null,
      "justify_content": null,
      "justify_items": null,
      "left": null,
      "margin": null,
      "max_height": null,
      "max_width": null,
      "min_height": null,
      "min_width": null,
      "object_fit": null,
      "object_position": null,
      "order": null,
      "overflow": null,
      "overflow_x": null,
      "overflow_y": null,
      "padding": null,
      "right": null,
      "top": null,
      "visibility": null,
      "width": null
     }
    },
    "aee3ae1fe3504466b17f3c0a83bc8a41": {
     "model_module": "@jupyter-widgets/controls",
     "model_name": "ProgressStyleModel",
     "model_module_version": "1.5.0",
     "state": {
      "_model_module": "@jupyter-widgets/controls",
      "_model_module_version": "1.5.0",
      "_model_name": "ProgressStyleModel",
      "_view_count": null,
      "_view_module": "@jupyter-widgets/base",
      "_view_module_version": "1.2.0",
      "_view_name": "StyleView",
      "bar_color": null,
      "description_width": ""
     }
    },
    "dd79d9600fed47ba9217ea06ca1156da": {
     "model_module": "@jupyter-widgets/base",
     "model_name": "LayoutModel",
     "model_module_version": "1.2.0",
     "state": {
      "_model_module": "@jupyter-widgets/base",
      "_model_module_version": "1.2.0",
      "_model_name": "LayoutModel",
      "_view_count": null,
      "_view_module": "@jupyter-widgets/base",
      "_view_module_version": "1.2.0",
      "_view_name": "LayoutView",
      "align_content": null,
      "align_items": null,
      "align_self": null,
      "border": null,
      "bottom": null,
      "display": null,
      "flex": null,
      "flex_flow": null,
      "grid_area": null,
      "grid_auto_columns": null,
      "grid_auto_flow": null,
      "grid_auto_rows": null,
      "grid_column": null,
      "grid_gap": null,
      "grid_row": null,
      "grid_template_areas": null,
      "grid_template_columns": null,
      "grid_template_rows": null,
      "height": null,
      "justify_content": null,
      "justify_items": null,
      "left": null,
      "margin": null,
      "max_height": null,
      "max_width": null,
      "min_height": null,
      "min_width": null,
      "object_fit": null,
      "object_position": null,
      "order": null,
      "overflow": null,
      "overflow_x": null,
      "overflow_y": null,
      "padding": null,
      "right": null,
      "top": null,
      "visibility": null,
      "width": null
     }
    },
    "fd00acb77ca24d29992360123b11916f": {
     "model_module": "@jupyter-widgets/controls",
     "model_name": "DescriptionStyleModel",
     "model_module_version": "1.5.0",
     "state": {
      "_model_module": "@jupyter-widgets/controls",
      "_model_module_version": "1.5.0",
      "_model_name": "DescriptionStyleModel",
      "_view_count": null,
      "_view_module": "@jupyter-widgets/base",
      "_view_module_version": "1.2.0",
      "_view_name": "StyleView",
      "description_width": ""
     }
    }
   }
  }
 },
 "nbformat_minor": 4,
 "nbformat": 4,
 "cells": [
  {
   "cell_type": "code",
   "source": [
    "!pip install sentencepiece==0.1.97\n",
    "!pip install transformers==4.27.2\n",
    "!pip install pytorch_lightning==1.5.10"
   ],
   "metadata": {
    "pycharm": {
     "is_executing": true
    },
    "colab": {
     "base_uri": "https://localhost:8080/"
    },
    "id": "SruBSX4KfwAj",
    "outputId": "c609f59d-6f33-48b0-c39f-584692490d53",
    "execution": {
     "iopub.status.busy": "2023-11-04T21:06:30.291414Z",
     "iopub.execute_input": "2023-11-04T21:06:30.291737Z",
     "iopub.status.idle": "2023-11-04T21:07:05.785953Z",
     "shell.execute_reply.started": "2023-11-04T21:06:30.291710Z",
     "shell.execute_reply": "2023-11-04T21:07:05.784576Z"
    },
    "trusted": true
   },
   "execution_count": 44,
   "outputs": [
    {
     "name": "stdout",
     "text": "Requirement already satisfied: sentencepiece==0.1.97 in /opt/conda/lib/python3.10/site-packages (0.1.97)\nRequirement already satisfied: transformers==4.27.2 in /opt/conda/lib/python3.10/site-packages (4.27.2)\nRequirement already satisfied: filelock in /opt/conda/lib/python3.10/site-packages (from transformers==4.27.2) (3.12.2)\nRequirement already satisfied: huggingface-hub<1.0,>=0.11.0 in /opt/conda/lib/python3.10/site-packages (from transformers==4.27.2) (0.16.4)\nRequirement already satisfied: numpy>=1.17 in /opt/conda/lib/python3.10/site-packages (from transformers==4.27.2) (1.23.5)\nRequirement already satisfied: packaging>=20.0 in /opt/conda/lib/python3.10/site-packages (from transformers==4.27.2) (21.3)\nRequirement already satisfied: pyyaml>=5.1 in /opt/conda/lib/python3.10/site-packages (from transformers==4.27.2) (6.0)\nRequirement already satisfied: regex!=2019.12.17 in /opt/conda/lib/python3.10/site-packages (from transformers==4.27.2) (2023.6.3)\nRequirement already satisfied: requests in /opt/conda/lib/python3.10/site-packages (from transformers==4.27.2) (2.31.0)\nRequirement already satisfied: tokenizers!=0.11.3,<0.14,>=0.11.1 in /opt/conda/lib/python3.10/site-packages (from transformers==4.27.2) (0.13.3)\nRequirement already satisfied: tqdm>=4.27 in /opt/conda/lib/python3.10/site-packages (from transformers==4.27.2) (4.66.1)\nRequirement already satisfied: fsspec in /opt/conda/lib/python3.10/site-packages (from huggingface-hub<1.0,>=0.11.0->transformers==4.27.2) (2023.9.0)\nRequirement already satisfied: typing-extensions>=3.7.4.3 in /opt/conda/lib/python3.10/site-packages (from huggingface-hub<1.0,>=0.11.0->transformers==4.27.2) (4.6.3)\nRequirement already satisfied: pyparsing!=3.0.5,>=2.0.2 in /opt/conda/lib/python3.10/site-packages (from packaging>=20.0->transformers==4.27.2) (3.0.9)\nRequirement already satisfied: charset-normalizer<4,>=2 in /opt/conda/lib/python3.10/site-packages (from requests->transformers==4.27.2) (3.1.0)\nRequirement already satisfied: idna<4,>=2.5 in /opt/conda/lib/python3.10/site-packages (from requests->transformers==4.27.2) (3.4)\nRequirement already satisfied: urllib3<3,>=1.21.1 in /opt/conda/lib/python3.10/site-packages (from requests->transformers==4.27.2) (1.26.15)\nRequirement already satisfied: certifi>=2017.4.17 in /opt/conda/lib/python3.10/site-packages (from requests->transformers==4.27.2) (2023.7.22)\nRequirement already satisfied: pytorch_lightning==1.5.10 in /opt/conda/lib/python3.10/site-packages (1.5.10)\nRequirement already satisfied: numpy>=1.17.2 in /opt/conda/lib/python3.10/site-packages (from pytorch_lightning==1.5.10) (1.23.5)\nRequirement already satisfied: torch>=1.7.* in /opt/conda/lib/python3.10/site-packages (from pytorch_lightning==1.5.10) (2.0.0)\nRequirement already satisfied: future>=0.17.1 in /opt/conda/lib/python3.10/site-packages (from pytorch_lightning==1.5.10) (0.18.3)\nRequirement already satisfied: tqdm>=4.41.0 in /opt/conda/lib/python3.10/site-packages (from pytorch_lightning==1.5.10) (4.66.1)\nRequirement already satisfied: PyYAML>=5.1 in /opt/conda/lib/python3.10/site-packages (from pytorch_lightning==1.5.10) (6.0)\nRequirement already satisfied: fsspec[http]!=2021.06.0,>=2021.05.0 in /opt/conda/lib/python3.10/site-packages (from pytorch_lightning==1.5.10) (2023.9.0)\nRequirement already satisfied: tensorboard>=2.2.0 in /opt/conda/lib/python3.10/site-packages (from pytorch_lightning==1.5.10) (2.12.3)\nRequirement already satisfied: torchmetrics>=0.4.1 in /opt/conda/lib/python3.10/site-packages (from pytorch_lightning==1.5.10) (1.1.1)\nRequirement already satisfied: pyDeprecate==0.3.1 in /opt/conda/lib/python3.10/site-packages (from pytorch_lightning==1.5.10) (0.3.1)\nRequirement already satisfied: packaging>=17.0 in /opt/conda/lib/python3.10/site-packages (from pytorch_lightning==1.5.10) (21.3)\nRequirement already satisfied: typing-extensions in /opt/conda/lib/python3.10/site-packages (from pytorch_lightning==1.5.10) (4.6.3)\nRequirement already satisfied: setuptools==59.5.0 in /opt/conda/lib/python3.10/site-packages (from pytorch_lightning==1.5.10) (59.5.0)\nRequirement already satisfied: requests in /opt/conda/lib/python3.10/site-packages (from fsspec[http]!=2021.06.0,>=2021.05.0->pytorch_lightning==1.5.10) (2.31.0)\nRequirement already satisfied: aiohttp!=4.0.0a0,!=4.0.0a1 in /opt/conda/lib/python3.10/site-packages (from fsspec[http]!=2021.06.0,>=2021.05.0->pytorch_lightning==1.5.10) (3.8.4)\nRequirement already satisfied: pyparsing!=3.0.5,>=2.0.2 in /opt/conda/lib/python3.10/site-packages (from packaging>=17.0->pytorch_lightning==1.5.10) (3.0.9)\nRequirement already satisfied: absl-py>=0.4 in /opt/conda/lib/python3.10/site-packages (from tensorboard>=2.2.0->pytorch_lightning==1.5.10) (1.4.0)\nRequirement already satisfied: grpcio>=1.48.2 in /opt/conda/lib/python3.10/site-packages (from tensorboard>=2.2.0->pytorch_lightning==1.5.10) (1.51.1)\nRequirement already satisfied: google-auth<3,>=1.6.3 in /opt/conda/lib/python3.10/site-packages (from tensorboard>=2.2.0->pytorch_lightning==1.5.10) (2.20.0)\nRequirement already satisfied: google-auth-oauthlib<1.1,>=0.5 in /opt/conda/lib/python3.10/site-packages (from tensorboard>=2.2.0->pytorch_lightning==1.5.10) (1.0.0)\nRequirement already satisfied: markdown>=2.6.8 in /opt/conda/lib/python3.10/site-packages (from tensorboard>=2.2.0->pytorch_lightning==1.5.10) (3.4.3)\nRequirement already satisfied: protobuf>=3.19.6 in /opt/conda/lib/python3.10/site-packages (from tensorboard>=2.2.0->pytorch_lightning==1.5.10) (3.20.3)\nRequirement already satisfied: tensorboard-data-server<0.8.0,>=0.7.0 in /opt/conda/lib/python3.10/site-packages (from tensorboard>=2.2.0->pytorch_lightning==1.5.10) (0.7.1)\nRequirement already satisfied: werkzeug>=1.0.1 in /opt/conda/lib/python3.10/site-packages (from tensorboard>=2.2.0->pytorch_lightning==1.5.10) (2.3.7)\nRequirement already satisfied: wheel>=0.26 in /opt/conda/lib/python3.10/site-packages (from tensorboard>=2.2.0->pytorch_lightning==1.5.10) (0.40.0)\nRequirement already satisfied: filelock in /opt/conda/lib/python3.10/site-packages (from torch>=1.7.*->pytorch_lightning==1.5.10) (3.12.2)\nRequirement already satisfied: sympy in /opt/conda/lib/python3.10/site-packages (from torch>=1.7.*->pytorch_lightning==1.5.10) (1.12)\nRequirement already satisfied: networkx in /opt/conda/lib/python3.10/site-packages (from torch>=1.7.*->pytorch_lightning==1.5.10) (3.1)\nRequirement already satisfied: jinja2 in /opt/conda/lib/python3.10/site-packages (from torch>=1.7.*->pytorch_lightning==1.5.10) (3.1.2)\nRequirement already satisfied: lightning-utilities>=0.8.0 in /opt/conda/lib/python3.10/site-packages (from torchmetrics>=0.4.1->pytorch_lightning==1.5.10) (0.9.0)\nRequirement already satisfied: attrs>=17.3.0 in /opt/conda/lib/python3.10/site-packages (from aiohttp!=4.0.0a0,!=4.0.0a1->fsspec[http]!=2021.06.0,>=2021.05.0->pytorch_lightning==1.5.10) (23.1.0)\nRequirement already satisfied: charset-normalizer<4.0,>=2.0 in /opt/conda/lib/python3.10/site-packages (from aiohttp!=4.0.0a0,!=4.0.0a1->fsspec[http]!=2021.06.0,>=2021.05.0->pytorch_lightning==1.5.10) (3.1.0)\nRequirement already satisfied: multidict<7.0,>=4.5 in /opt/conda/lib/python3.10/site-packages (from aiohttp!=4.0.0a0,!=4.0.0a1->fsspec[http]!=2021.06.0,>=2021.05.0->pytorch_lightning==1.5.10) (6.0.4)\nRequirement already satisfied: async-timeout<5.0,>=4.0.0a3 in /opt/conda/lib/python3.10/site-packages (from aiohttp!=4.0.0a0,!=4.0.0a1->fsspec[http]!=2021.06.0,>=2021.05.0->pytorch_lightning==1.5.10) (4.0.2)\nRequirement already satisfied: yarl<2.0,>=1.0 in /opt/conda/lib/python3.10/site-packages (from aiohttp!=4.0.0a0,!=4.0.0a1->fsspec[http]!=2021.06.0,>=2021.05.0->pytorch_lightning==1.5.10) (1.9.2)\nRequirement already satisfied: frozenlist>=1.1.1 in /opt/conda/lib/python3.10/site-packages (from aiohttp!=4.0.0a0,!=4.0.0a1->fsspec[http]!=2021.06.0,>=2021.05.0->pytorch_lightning==1.5.10) (1.3.3)\nRequirement already satisfied: aiosignal>=1.1.2 in /opt/conda/lib/python3.10/site-packages (from aiohttp!=4.0.0a0,!=4.0.0a1->fsspec[http]!=2021.06.0,>=2021.05.0->pytorch_lightning==1.5.10) (1.3.1)\nRequirement already satisfied: cachetools<6.0,>=2.0.0 in /opt/conda/lib/python3.10/site-packages (from google-auth<3,>=1.6.3->tensorboard>=2.2.0->pytorch_lightning==1.5.10) (4.2.4)\nRequirement already satisfied: pyasn1-modules>=0.2.1 in /opt/conda/lib/python3.10/site-packages (from google-auth<3,>=1.6.3->tensorboard>=2.2.0->pytorch_lightning==1.5.10) (0.2.7)\nRequirement already satisfied: rsa<5,>=3.1.4 in /opt/conda/lib/python3.10/site-packages (from google-auth<3,>=1.6.3->tensorboard>=2.2.0->pytorch_lightning==1.5.10) (4.9)\nRequirement already satisfied: six>=1.9.0 in /opt/conda/lib/python3.10/site-packages (from google-auth<3,>=1.6.3->tensorboard>=2.2.0->pytorch_lightning==1.5.10) (1.16.0)\nRequirement already satisfied: urllib3<2.0 in /opt/conda/lib/python3.10/site-packages (from google-auth<3,>=1.6.3->tensorboard>=2.2.0->pytorch_lightning==1.5.10) (1.26.15)\nRequirement already satisfied: requests-oauthlib>=0.7.0 in /opt/conda/lib/python3.10/site-packages (from google-auth-oauthlib<1.1,>=0.5->tensorboard>=2.2.0->pytorch_lightning==1.5.10) (1.3.1)\nRequirement already satisfied: idna<4,>=2.5 in /opt/conda/lib/python3.10/site-packages (from requests->fsspec[http]!=2021.06.0,>=2021.05.0->pytorch_lightning==1.5.10) (3.4)\nRequirement already satisfied: certifi>=2017.4.17 in /opt/conda/lib/python3.10/site-packages (from requests->fsspec[http]!=2021.06.0,>=2021.05.0->pytorch_lightning==1.5.10) (2023.7.22)\nRequirement already satisfied: MarkupSafe>=2.1.1 in /opt/conda/lib/python3.10/site-packages (from werkzeug>=1.0.1->tensorboard>=2.2.0->pytorch_lightning==1.5.10) (2.1.3)\nRequirement already satisfied: mpmath>=0.19 in /opt/conda/lib/python3.10/site-packages (from sympy->torch>=1.7.*->pytorch_lightning==1.5.10) (1.3.0)\nRequirement already satisfied: pyasn1<0.5.0,>=0.4.6 in /opt/conda/lib/python3.10/site-packages (from pyasn1-modules>=0.2.1->google-auth<3,>=1.6.3->tensorboard>=2.2.0->pytorch_lightning==1.5.10) (0.4.8)\nRequirement already satisfied: oauthlib>=3.0.0 in /opt/conda/lib/python3.10/site-packages (from requests-oauthlib>=0.7.0->google-auth-oauthlib<1.1,>=0.5->tensorboard>=2.2.0->pytorch_lightning==1.5.10) (3.2.2)\n",
     "output_type": "stream"
    }
   ]
  },
  {
   "cell_type": "code",
   "source": [
    "from sklearn.model_selection import train_test_split\n",
    "\n",
    "from transformers import T5Tokenizer, T5ForConditionalGeneration\n",
    "\n",
    "from transformers import AdamW\n",
    "import pandas as pd\n",
    "import torch\n",
    "import pytorch_lightning as pl\n",
    "from pytorch_lightning.callbacks import ModelCheckpoint\n",
    "\n",
    "pl.seed_everything(100)\n",
    "import warnings\n",
    "warnings.filterwarnings(\"ignore\")"
   ],
   "metadata": {
    "_uuid": "8f2839f25d086af736a60e9eeb907d3b93b6e0e5",
    "_cell_guid": "b1076dfc-b9ad-4769-8c92-a6c4dae69d19",
    "pycharm": {
     "is_executing": true
    },
    "colab": {
     "base_uri": "https://localhost:8080/"
    },
    "id": "F6cZLiaLfwAn",
    "outputId": "37ae19ae-ecd0-4f91-a82d-c0d32016ff51",
    "execution": {
     "iopub.status.busy": "2023-11-04T21:07:05.788386Z",
     "iopub.execute_input": "2023-11-04T21:07:05.788745Z",
     "iopub.status.idle": "2023-11-04T21:07:05.796966Z",
     "shell.execute_reply.started": "2023-11-04T21:07:05.788711Z",
     "shell.execute_reply": "2023-11-04T21:07:05.795457Z"
    },
    "trusted": true
   },
   "execution_count": 45,
   "outputs": []
  },
  {
   "cell_type": "code",
   "source": [
    "data_raw = pd.read_csv(\"../data/raw/filtered.tsv\", sep='\\t')[:5000]\n",
    "data_raw.head(3)"
   ],
   "metadata": {
    "pycharm": {
     "is_executing": true
    },
    "colab": {
     "base_uri": "https://localhost:8080/",
     "height": 143
    },
    "id": "jnV1tiScfwAo",
    "outputId": "3d42e416-9af5-4f60-d8dc-dfbb7b4f0d20",
    "execution": {
     "iopub.status.busy": "2023-11-04T21:07:05.798585Z",
     "iopub.execute_input": "2023-11-04T21:07:05.798981Z",
     "iopub.status.idle": "2023-11-04T21:07:07.871509Z",
     "shell.execute_reply.started": "2023-11-04T21:07:05.798948Z",
     "shell.execute_reply": "2023-11-04T21:07:07.870563Z"
    },
    "trusted": true
   },
   "execution_count": 46,
   "outputs": [
    {
     "execution_count": 46,
     "output_type": "execute_result",
     "data": {
      "text/plain": "   Unnamed: 0                                          reference  \\\n0           0  If Alkar is flooding her with psychic waste, t...   \n1           1                          Now you're getting nasty.   \n2           2           Well, we could spare your life, for one.   \n\n                                         translation  similarity  lenght_diff  \\\n0  if Alkar floods her with her mental waste, it ...    0.785171     0.010309   \n1                        you're becoming disgusting.    0.749687     0.071429   \n2                      well, we can spare your life.    0.919051     0.268293   \n\n    ref_tox   trn_tox  \n0  0.014195  0.981983  \n1  0.065473  0.999039  \n2  0.213313  0.985068  ",
      "text/html": "<div>\n<style scoped>\n    .dataframe tbody tr th:only-of-type {\n        vertical-align: middle;\n    }\n\n    .dataframe tbody tr th {\n        vertical-align: top;\n    }\n\n    .dataframe thead th {\n        text-align: right;\n    }\n</style>\n<table border=\"1\" class=\"dataframe\">\n  <thead>\n    <tr style=\"text-align: right;\">\n      <th></th>\n      <th>Unnamed: 0</th>\n      <th>reference</th>\n      <th>translation</th>\n      <th>similarity</th>\n      <th>lenght_diff</th>\n      <th>ref_tox</th>\n      <th>trn_tox</th>\n    </tr>\n  </thead>\n  <tbody>\n    <tr>\n      <th>0</th>\n      <td>0</td>\n      <td>If Alkar is flooding her with psychic waste, t...</td>\n      <td>if Alkar floods her with her mental waste, it ...</td>\n      <td>0.785171</td>\n      <td>0.010309</td>\n      <td>0.014195</td>\n      <td>0.981983</td>\n    </tr>\n    <tr>\n      <th>1</th>\n      <td>1</td>\n      <td>Now you're getting nasty.</td>\n      <td>you're becoming disgusting.</td>\n      <td>0.749687</td>\n      <td>0.071429</td>\n      <td>0.065473</td>\n      <td>0.999039</td>\n    </tr>\n    <tr>\n      <th>2</th>\n      <td>2</td>\n      <td>Well, we could spare your life, for one.</td>\n      <td>well, we can spare your life.</td>\n      <td>0.919051</td>\n      <td>0.268293</td>\n      <td>0.213313</td>\n      <td>0.985068</td>\n    </tr>\n  </tbody>\n</table>\n</div>"
     },
     "metadata": {}
    }
   ]
  },
  {
   "cell_type": "code",
   "source": [
    "for i in range(len(data_raw)):\n",
    "  if data_raw.iloc[i, 5] < data_raw.iloc[i, 6]:\n",
    "    z = data_raw.iloc[i, 1]\n",
    "    data_raw.iloc[i, 1] =  data_raw.iloc[i, 2]\n",
    "    data_raw.iloc[i, 2] = z"
   ],
   "metadata": {
    "id": "k56NJoLl7Oc8",
    "execution": {
     "iopub.status.busy": "2023-11-04T21:07:07.874209Z",
     "iopub.execute_input": "2023-11-04T21:07:07.874540Z",
     "iopub.status.idle": "2023-11-04T21:07:09.284089Z",
     "shell.execute_reply.started": "2023-11-04T21:07:07.874503Z",
     "shell.execute_reply": "2023-11-04T21:07:09.283038Z"
    },
    "trusted": true
   },
   "execution_count": 47,
   "outputs": []
  },
  {
   "cell_type": "code",
   "source": [
    "data = data_raw.drop(columns=['Unnamed: 0', 'similarity', 'lenght_diff', 'ref_tox', 'trn_tox'])"
   ],
   "metadata": {
    "id": "UnJpMiDQ7riB",
    "execution": {
     "iopub.status.busy": "2023-11-04T21:07:09.285374Z",
     "iopub.execute_input": "2023-11-04T21:07:09.285751Z",
     "iopub.status.idle": "2023-11-04T21:07:09.292191Z",
     "shell.execute_reply.started": "2023-11-04T21:07:09.285722Z",
     "shell.execute_reply": "2023-11-04T21:07:09.291054Z"
    },
    "trusted": true
   },
   "execution_count": 48,
   "outputs": []
  },
  {
   "cell_type": "code",
   "source": [
    "data.head(4)"
   ],
   "metadata": {
    "pycharm": {
     "is_executing": true
    },
    "colab": {
     "base_uri": "https://localhost:8080/",
     "height": 175
    },
    "id": "H7dKM-tDfwAp",
    "outputId": "fe9d895d-42c1-4f42-9d83-b1fab67b0f86",
    "execution": {
     "iopub.status.busy": "2023-11-04T21:07:09.293456Z",
     "iopub.execute_input": "2023-11-04T21:07:09.293806Z",
     "iopub.status.idle": "2023-11-04T21:07:09.305804Z",
     "shell.execute_reply.started": "2023-11-04T21:07:09.293780Z",
     "shell.execute_reply": "2023-11-04T21:07:09.304743Z"
    },
    "trusted": true
   },
   "execution_count": 49,
   "outputs": [
    {
     "execution_count": 49,
     "output_type": "execute_result",
     "data": {
      "text/plain": "                                           reference  \\\n0  if Alkar floods her with her mental waste, it ...   \n1                        you're becoming disgusting.   \n2                      well, we can spare your life.   \n3                       monkey, you have to wake up.   \n\n                                         translation  \n0  If Alkar is flooding her with psychic waste, t...  \n1                          Now you're getting nasty.  \n2           Well, we could spare your life, for one.  \n3          Ah! Monkey, you've got to snap out of it.  ",
      "text/html": "<div>\n<style scoped>\n    .dataframe tbody tr th:only-of-type {\n        vertical-align: middle;\n    }\n\n    .dataframe tbody tr th {\n        vertical-align: top;\n    }\n\n    .dataframe thead th {\n        text-align: right;\n    }\n</style>\n<table border=\"1\" class=\"dataframe\">\n  <thead>\n    <tr style=\"text-align: right;\">\n      <th></th>\n      <th>reference</th>\n      <th>translation</th>\n    </tr>\n  </thead>\n  <tbody>\n    <tr>\n      <th>0</th>\n      <td>if Alkar floods her with her mental waste, it ...</td>\n      <td>If Alkar is flooding her with psychic waste, t...</td>\n    </tr>\n    <tr>\n      <th>1</th>\n      <td>you're becoming disgusting.</td>\n      <td>Now you're getting nasty.</td>\n    </tr>\n    <tr>\n      <th>2</th>\n      <td>well, we can spare your life.</td>\n      <td>Well, we could spare your life, for one.</td>\n    </tr>\n    <tr>\n      <th>3</th>\n      <td>monkey, you have to wake up.</td>\n      <td>Ah! Monkey, you've got to snap out of it.</td>\n    </tr>\n  </tbody>\n</table>\n</div>"
     },
     "metadata": {}
    }
   ]
  },
  {
   "cell_type": "code",
   "source": [
    "print(\"No of rows:\" ,data.shape[0])"
   ],
   "metadata": {
    "pycharm": {
     "is_executing": true
    },
    "colab": {
     "base_uri": "https://localhost:8080/"
    },
    "id": "izm-c8QDfwAq",
    "outputId": "761a6bfb-ecec-4d40-bf30-ad3a2e295b5c",
    "execution": {
     "iopub.status.busy": "2023-11-04T21:07:09.307081Z",
     "iopub.execute_input": "2023-11-04T21:07:09.307439Z",
     "iopub.status.idle": "2023-11-04T21:07:09.315692Z",
     "shell.execute_reply.started": "2023-11-04T21:07:09.307407Z",
     "shell.execute_reply": "2023-11-04T21:07:09.314731Z"
    },
    "trusted": true
   },
   "execution_count": 50,
   "outputs": [
    {
     "name": "stdout",
     "text": "No of rows: 5000\n",
     "output_type": "stream"
    }
   ]
  },
  {
   "cell_type": "code",
   "source": [
    "DEVICE = torch.device('cuda' if torch.cuda.is_available() else 'cpu')\n",
    "INPUT_MAX_LEN = 128 #input length\n",
    "OUTPUT_MAX_LEN = 128 # output length\n",
    "TRAIN_BATCH_SIZE = 8 # batch size of training\n",
    "VAL_BATCH_SIZE = 2 # batch size for validation\n",
    "EPOCHS = 5 # number of epoch"
   ],
   "metadata": {
    "pycharm": {
     "is_executing": true
    },
    "id": "9_cwEG0dfwAr",
    "execution": {
     "iopub.status.busy": "2023-11-04T21:07:09.316928Z",
     "iopub.execute_input": "2023-11-04T21:07:09.317213Z",
     "iopub.status.idle": "2023-11-04T21:07:09.326351Z",
     "shell.execute_reply.started": "2023-11-04T21:07:09.317190Z",
     "shell.execute_reply": "2023-11-04T21:07:09.325388Z"
    },
    "trusted": true
   },
   "execution_count": 51,
   "outputs": []
  },
  {
   "cell_type": "code",
   "source": [
    "MODEL_NAME = \"t5-base\"\n",
    "tokenizer = T5Tokenizer.from_pretrained(MODEL_NAME, model_max_length=512)\n"
   ],
   "metadata": {
    "pycharm": {
     "is_executing": true
    },
    "id": "dowEaWrTfwAt",
    "execution": {
     "iopub.status.busy": "2023-11-04T21:07:09.327744Z",
     "iopub.execute_input": "2023-11-04T21:07:09.328063Z",
     "iopub.status.idle": "2023-11-04T21:07:09.460955Z",
     "shell.execute_reply.started": "2023-11-04T21:07:09.328038Z",
     "shell.execute_reply": "2023-11-04T21:07:09.460001Z"
    },
    "trusted": true
   },
   "execution_count": 52,
   "outputs": []
  },
  {
   "cell_type": "markdown",
   "source": [
    "Example of how T5 Tokenizer actually work."
   ],
   "metadata": {
    "id": "SMfB5G-HfwAu"
   }
  },
  {
   "cell_type": "code",
   "source": [
    "text = \"How are you?\"    # assume the text that is to be tokenized\n",
    "\n",
    "input_tokenize = tokenizer(\n",
    "             text,\n",
    "            add_special_tokens=True,        #Add Special tokens like [CLS] and [SEP]\n",
    "            max_length=128,\n",
    "            padding = 'max_length',         #for padding to max_length for equal sequence length\n",
    "            truncation = True,              #truncate the text if it is greater than max_length\n",
    "            return_attention_mask=True,     #will return attention mask\n",
    "            return_tensors=\"pt\"             #return tensor formate\n",
    "        )"
   ],
   "metadata": {
    "pycharm": {
     "is_executing": true
    },
    "id": "w86az2kQfwAv",
    "execution": {
     "iopub.status.busy": "2023-11-04T21:07:09.464656Z",
     "iopub.execute_input": "2023-11-04T21:07:09.464968Z",
     "iopub.status.idle": "2023-11-04T21:07:09.471003Z",
     "shell.execute_reply.started": "2023-11-04T21:07:09.464939Z",
     "shell.execute_reply": "2023-11-04T21:07:09.470075Z"
    },
    "trusted": true
   },
   "execution_count": 53,
   "outputs": []
  },
  {
   "cell_type": "code",
   "source": [
    "print(\"input_ids: \", input_tokenize['input_ids'].flatten())\n",
    "print(\"-----------------------------------------------------------------------------\")\n",
    "print(\"Attention Mask: \", input_tokenize['attention_mask'].flatten())"
   ],
   "metadata": {
    "pycharm": {
     "is_executing": true
    },
    "colab": {
     "base_uri": "https://localhost:8080/"
    },
    "id": "qPDd_89mfwAw",
    "outputId": "5370003b-74f9-4cc5-e31e-138bb2dd9a61",
    "execution": {
     "iopub.status.busy": "2023-11-04T21:07:09.472302Z",
     "iopub.execute_input": "2023-11-04T21:07:09.472594Z",
     "iopub.status.idle": "2023-11-04T21:07:09.487330Z",
     "shell.execute_reply.started": "2023-11-04T21:07:09.472569Z",
     "shell.execute_reply": "2023-11-04T21:07:09.486177Z"
    },
    "trusted": true
   },
   "execution_count": 54,
   "outputs": [
    {
     "name": "stdout",
     "text": "input_ids:  tensor([8774,    6,  149,   33,   25,  469,   58,    1,    0,    0,    0,    0,\n           0,    0,    0,    0,    0,    0,    0,    0,    0,    0,    0,    0,\n           0,    0,    0,    0,    0,    0,    0,    0,    0,    0,    0,    0,\n           0,    0,    0,    0,    0,    0,    0,    0,    0,    0,    0,    0,\n           0,    0,    0,    0,    0,    0,    0,    0,    0,    0,    0,    0,\n           0,    0,    0,    0,    0,    0,    0,    0,    0,    0,    0,    0,\n           0,    0,    0,    0,    0,    0,    0,    0,    0,    0,    0,    0,\n           0,    0,    0,    0,    0,    0,    0,    0,    0,    0,    0,    0,\n           0,    0,    0,    0,    0,    0,    0,    0,    0,    0,    0,    0,\n           0,    0,    0,    0,    0,    0,    0,    0,    0,    0,    0,    0,\n           0,    0,    0,    0,    0,    0,    0,    0])\n-----------------------------------------------------------------------------\nAttention Mask:  tensor([1, 1, 1, 1, 1, 1, 1, 1, 0, 0, 0, 0, 0, 0, 0, 0, 0, 0, 0, 0, 0, 0, 0, 0,\n        0, 0, 0, 0, 0, 0, 0, 0, 0, 0, 0, 0, 0, 0, 0, 0, 0, 0, 0, 0, 0, 0, 0, 0,\n        0, 0, 0, 0, 0, 0, 0, 0, 0, 0, 0, 0, 0, 0, 0, 0, 0, 0, 0, 0, 0, 0, 0, 0,\n        0, 0, 0, 0, 0, 0, 0, 0, 0, 0, 0, 0, 0, 0, 0, 0, 0, 0, 0, 0, 0, 0, 0, 0,\n        0, 0, 0, 0, 0, 0, 0, 0, 0, 0, 0, 0, 0, 0, 0, 0, 0, 0, 0, 0, 0, 0, 0, 0,\n        0, 0, 0, 0, 0, 0, 0, 0])\n",
     "output_type": "stream"
    }
   ]
  },
  {
   "cell_type": "markdown",
   "source": [],
   "metadata": {
    "id": "CGviXtEHfwAx"
   }
  },
  {
   "cell_type": "code",
   "source": [
    "class T5Dataset:\n",
    "\n",
    "  def __init__(self,toxic,non_toxic):\n",
    "\n",
    "    self.toxic = toxic\n",
    "    self.non_toxic = non_toxic\n",
    "    self.tokenizer = tokenizer\n",
    "    self.input_max_len = INPUT_MAX_LEN\n",
    "    self.output_max_len = OUTPUT_MAX_LEN\n",
    "\n",
    "  def __len__(self):                      # This method retrives the number of item from the dataset\n",
    "    return len(self.toxic)\n",
    "\n",
    "  def __getitem__(self,item):             # This method retrieves the item at the specified index item.\n",
    "\n",
    "    toxic = str(self.toxic[item])\n",
    "    toxic = ''.join(toxic.split())\n",
    "\n",
    "    non_toxic = str(self.non_toxic[item])\n",
    "    non_toxic = ''.join(non_toxic.split())\n",
    "\n",
    "    input_tokenize = self.tokenizer(\n",
    "            toxic,\n",
    "            add_special_tokens=True,\n",
    "            max_length=self.input_max_len,\n",
    "            padding = 'max_length',\n",
    "            truncation = True,\n",
    "            return_attention_mask=True,\n",
    "            return_tensors=\"pt\"\n",
    "        )\n",
    "    output_tokenize = self.tokenizer(\n",
    "            non_toxic,\n",
    "            add_special_tokens=True,\n",
    "            max_length=self.output_max_len,\n",
    "            padding = 'max_length',\n",
    "            truncation = True,\n",
    "            return_attention_mask=True,\n",
    "            return_tensors=\"pt\"\n",
    "\n",
    "        )\n",
    "\n",
    "\n",
    "    input_ids = input_tokenize[\"input_ids\"].flatten()\n",
    "    attention_mask = input_tokenize[\"attention_mask\"].flatten()\n",
    "    labels = output_tokenize['input_ids'].flatten()\n",
    "\n",
    "    out = {\n",
    "            'toxic':toxic,\n",
    "            'non-toxic':non_toxic,\n",
    "            'input_ids': input_ids,\n",
    "            'attention_mask':attention_mask,\n",
    "            'target':labels\n",
    "        }\n",
    "\n",
    "    return out"
   ],
   "metadata": {
    "pycharm": {
     "is_executing": true
    },
    "id": "3VwkA5I-fwAx",
    "execution": {
     "iopub.status.busy": "2023-11-04T21:07:09.488598Z",
     "iopub.execute_input": "2023-11-04T21:07:09.488936Z",
     "iopub.status.idle": "2023-11-04T21:07:09.500060Z",
     "shell.execute_reply.started": "2023-11-04T21:07:09.488900Z",
     "shell.execute_reply": "2023-11-04T21:07:09.498965Z"
    },
    "trusted": true
   },
   "execution_count": 55,
   "outputs": []
  },
  {
   "cell_type": "markdown",
   "source": [
    "# Data Loader"
   ],
   "metadata": {
    "id": "kHPClqNwfwAy"
   }
  },
  {
   "cell_type": "code",
   "source": [
    "class T5DataLoad(pl.LightningDataModule):\n",
    "\n",
    "    def __init__(self,df_train,df_test):\n",
    "        super().__init__()\n",
    "        self.df_train = df_train\n",
    "        self.df_test = df_test\n",
    "        self.tokenizer = tokenizer\n",
    "        self.input_max_len = INPUT_MAX_LEN\n",
    "        self.out_max_len = OUTPUT_MAX_LEN\n",
    "\n",
    "    def setup(self, stage=None):\n",
    "\n",
    "        self.train_data = T5Dataset(\n",
    "            toxic = self.df_train.reference.values,\n",
    "            non_toxic = self.df_train.translation.values\n",
    "        )\n",
    "\n",
    "        self.valid_data = T5Dataset(\n",
    "            toxic = self.df_test.reference.values,\n",
    "            non_toxic = self.df_test.translation.values\n",
    "        )\n",
    "    def train_dataloader(self):\n",
    "        return torch.utils.data.DataLoader(\n",
    "         self.train_data,\n",
    "         batch_size= TRAIN_BATCH_SIZE,\n",
    "         shuffle=True,\n",
    "         num_workers=2\n",
    "        )\n",
    "    def val_dataloader(self):\n",
    "        return torch.utils.data.DataLoader(\n",
    "        self.valid_data,\n",
    "        batch_size= VAL_BATCH_SIZE,\n",
    "        num_workers = 2\n",
    "        )"
   ],
   "metadata": {
    "pycharm": {
     "is_executing": true
    },
    "id": "SKEr-SPkfwAz",
    "execution": {
     "iopub.status.busy": "2023-11-04T21:07:09.501196Z",
     "iopub.execute_input": "2023-11-04T21:07:09.501481Z",
     "iopub.status.idle": "2023-11-04T21:07:09.513200Z",
     "shell.execute_reply.started": "2023-11-04T21:07:09.501453Z",
     "shell.execute_reply": "2023-11-04T21:07:09.512255Z"
    },
    "trusted": true
   },
   "execution_count": 56,
   "outputs": []
  },
  {
   "cell_type": "markdown",
   "source": [
    "# Building T5 Model"
   ],
   "metadata": {
    "id": "YrupOkT9fwAz"
   }
  },
  {
   "cell_type": "code",
   "source": [
    "class T5Model(pl.LightningModule):\n",
    "\n",
    "    def __init__(self):\n",
    "        super().__init__()\n",
    "        self.model = T5ForConditionalGeneration.from_pretrained(MODEL_NAME, return_dict = True)\n",
    "\n",
    "\n",
    "    def forward(self, input_ids, attention_mask, labels=None):\n",
    "\n",
    "        output = self.model(\n",
    "        input_ids=input_ids,\n",
    "        attention_mask=attention_mask,\n",
    "        labels=labels\n",
    "        )\n",
    "        return output.loss, output.logits\n",
    "\n",
    "    def training_step(self, batch, batch_idx):\n",
    "\n",
    "        input_ids = batch[\"input_ids\"]\n",
    "        attention_mask = batch[\"attention_mask\"]\n",
    "        labels= batch[\"target\"]\n",
    "        loss, logits = self(input_ids , attention_mask, labels)\n",
    "\n",
    "\n",
    "        self.log(\"train_loss\", loss, prog_bar=True, logger=True)\n",
    "\n",
    "        return {'loss': loss}\n",
    "\n",
    "    def validation_step(self, batch, batch_idx):\n",
    "        input_ids = batch[\"input_ids\"]\n",
    "        attention_mask = batch[\"attention_mask\"]\n",
    "        labels= batch[\"target\"]\n",
    "        loss, logits = self(input_ids, attention_mask, labels)\n",
    "\n",
    "        self.log(\"val_loss\", loss, prog_bar=True, logger=True)\n",
    "\n",
    "        return {'val_loss': loss}\n",
    "\n",
    "    def configure_optimizers(self):\n",
    "        return AdamW(self.parameters(), lr=0.0001)"
   ],
   "metadata": {
    "pycharm": {
     "is_executing": true
    },
    "id": "vzNJn1AyfwA0",
    "execution": {
     "iopub.status.busy": "2023-11-04T21:07:09.514353Z",
     "iopub.execute_input": "2023-11-04T21:07:09.514716Z",
     "iopub.status.idle": "2023-11-04T21:07:09.525955Z",
     "shell.execute_reply.started": "2023-11-04T21:07:09.514662Z",
     "shell.execute_reply": "2023-11-04T21:07:09.525085Z"
    },
    "trusted": true
   },
   "execution_count": 57,
   "outputs": []
  },
  {
   "cell_type": "markdown",
   "source": [
    "# Final Training Step"
   ],
   "metadata": {
    "id": "eGQ6UFS3fwA1"
   }
  },
  {
   "cell_type": "code",
   "source": [
    "def run():\n",
    "    df_train, df_test = train_test_split(data,test_size = 0.2, random_state=100)\n",
    "    dataload = T5DataLoad(df_train,df_test)\n",
    "    dataload.setup()\n",
    "    device = DEVICE\n",
    "    model = T5Model()\n",
    "    model.to(device)\n",
    "\n",
    "    checkpoint = ModelCheckpoint(\n",
    "        dirpath=\"t5_models\",\n",
    "        filename='best-model',\n",
    "        save_top_k=2,\n",
    "        verbose=True,\n",
    "        monitor=\"val_loss\",\n",
    "        mode=\"min\"\n",
    "    )\n",
    "    trainer = pl.Trainer(\n",
    "        callbacks = checkpoint,\n",
    "        max_epochs= 1,\n",
    "        gpus=1,\n",
    "        accelerator=\"gpu\"\n",
    "    )\n",
    "    trainer.fit(model, dataload)\n",
    "run()"
   ],
   "metadata": {
    "pycharm": {
     "is_executing": true
    },
    "colab": {
     "base_uri": "https://localhost:8080/",
     "height": 292,
     "referenced_widgets": [
      "2a24f632f828440bbcb3bc22d7c432f4",
      "607a63ed5ff947fa98691887f02dca04",
      "bb6fb93748f7430ab2e04c07f3968a69",
      "2c457540ed2746d1b16f8dd946809cbd",
      "40b847aae4f34d31b889381a00442f3e",
      "9865dae69b7a488ba7903dbb129bcd12",
      "945c5e7d257c4d78bf187f57806da7ea",
      "80f16636451b48e08e731d0c41929bc3",
      "f50c4253c06d46cf9f306612751854df",
      "fa98663c663746ab88a7ac74c90d5a0f",
      "d80ded44b3044126a11d7737d79b61c6",
      "059617cef152413a84544d95ac510d62",
      "e5b29a7122844cd19c6ee17b7d6e65ac",
      "d411c14d4b0d47ab887b9f00a275c34f",
      "e0aa844dc5f54ec599d1185cd78a80d4",
      "7ea9e215adb84538884c995966d98135",
      "6ddf56e3f01c433b900e89040a865f65",
      "7fab53701600434c800d609f47efebaa",
      "363a3f75433b4d34964bdcbfd2da546d",
      "aee3ae1fe3504466b17f3c0a83bc8a41",
      "dd79d9600fed47ba9217ea06ca1156da",
      "fd00acb77ca24d29992360123b11916f"
     ]
    },
    "id": "1K42RORafwA1",
    "outputId": "b9bff565-754d-4381-9fa0-acde240a4a79",
    "execution": {
     "iopub.status.busy": "2023-11-04T21:07:09.527196Z",
     "iopub.execute_input": "2023-11-04T21:07:09.527598Z"
    },
    "trusted": true
   },
   "execution_count": null,
   "outputs": [
    {
     "output_type": "display_data",
     "data": {
      "text/plain": "Downloading model.safetensors:   0%|          | 0.00/892M [00:00<?, ?B/s]",
      "application/vnd.jupyter.widget-view+json": {
       "version_major": 2,
       "version_minor": 0,
       "model_id": "daeaae1573654bcc8d3d0b68c892f3ca"
      }
     },
     "metadata": {}
    },
    {
     "output_type": "display_data",
     "data": {
      "text/plain": "Downloading (…)neration_config.json:   0%|          | 0.00/147 [00:00<?, ?B/s]",
      "application/vnd.jupyter.widget-view+json": {
       "version_major": 2,
       "version_minor": 0,
       "model_id": "1d64113613174f3a8c6102759ea5b5f8"
      }
     },
     "metadata": {}
    },
    {
     "output_type": "display_data",
     "data": {
      "text/plain": "Validation sanity check: 0it [00:00, ?it/s]",
      "application/vnd.jupyter.widget-view+json": {
       "version_major": 2,
       "version_minor": 0,
       "model_id": ""
      }
     },
     "metadata": {}
    },
    {
     "output_type": "display_data",
     "data": {
      "text/plain": "Training: 0it [00:00, ?it/s]",
      "application/vnd.jupyter.widget-view+json": {
       "version_major": 2,
       "version_minor": 0,
       "model_id": "60e9b22f6fd3453689ac07e561a3dd3b"
      }
     },
     "metadata": {}
    }
   ]
  },
  {
   "cell_type": "code",
   "source": [
    "train_model = T5Model.load_from_checkpoint('t5_models/best-model.ckpt')\n",
    "train_model.freeze()\n",
    "\n",
    "def detoxicate(text):\n",
    "\n",
    "    inputs_encoding =  tokenizer(\n",
    "        text,\n",
    "        add_special_tokens=True,\n",
    "        max_length= INPUT_MAX_LEN,\n",
    "        padding = 'max_length',\n",
    "        truncation='only_first',\n",
    "        return_attention_mask=True,\n",
    "        return_tensors=\"pt\"\n",
    "        )\n",
    "\n",
    "\n",
    "    generate_ids = train_model.model.generate(\n",
    "        input_ids = inputs_encoding[\"input_ids\"],\n",
    "        attention_mask = inputs_encoding[\"attention_mask\"],\n",
    "        max_length = INPUT_MAX_LEN,\n",
    "        num_beams = 4,\n",
    "        num_return_sequences = 1,\n",
    "        no_repeat_ngram_size=2,\n",
    "        early_stopping=True,\n",
    "        )\n",
    "\n",
    "    preds = [\n",
    "        tokenizer.decode(gen_id,\n",
    "        skip_special_tokens=True,\n",
    "        clean_up_tokenization_spaces=True)\n",
    "        for gen_id in generate_ids\n",
    "    ]\n",
    "\n",
    "    return \"\".join(preds)\n"
   ],
   "metadata": {
    "pycharm": {
     "is_executing": true
    },
    "id": "AAvC5ny3fwA2",
    "trusted": true
   },
   "execution_count": null,
   "outputs": []
  },
  {
   "cell_type": "markdown",
   "source": [
    "# Model Evaluation"
   ],
   "metadata": {
    "id": "SYMMiFT8fwA2"
   }
  },
  {
   "cell_type": "code",
   "source": [
    "text = \"Are you stupid or you blind?\"\n",
    "print(\"Original: \",text)\n",
    "print(\"Detox: \",detoxicate(text))"
   ],
   "metadata": {
    "pycharm": {
     "is_executing": true
    },
    "colab": {
     "base_uri": "https://localhost:8080/"
    },
    "id": "L_BaJzBffwA3",
    "outputId": "cdcc8831-d8b7-4330-ee44-c60e291ba296",
    "trusted": true
   },
   "execution_count": null,
   "outputs": []
  },
  {
   "cell_type": "code",
   "source": [
    "text = data.iloc[1].reference\n",
    "print(\"Original:\", text)\n",
    "print(\"Detox: \",detoxicate(text))"
   ],
   "metadata": {
    "pycharm": {
     "is_executing": true
    },
    "id": "-uPk3bE2fwA3",
    "trusted": true
   },
   "execution_count": null,
   "outputs": []
  }
 ]
}
