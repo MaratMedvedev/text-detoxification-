{
 "cells": [
  {
   "cell_type": "code",
   "execution_count": 50,
   "metadata": {
    "collapsed": true
   },
   "outputs": [],
   "source": [
    "raw_data_path = \"../data/raw/filtered.tsv\""
   ]
  },
  {
   "cell_type": "code",
   "execution_count": 51,
   "outputs": [
    {
     "data": {
      "text/plain": "   Unnamed: 0                                          reference  \\\n0           0  If Alkar is flooding her with psychic waste, t...   \n1           1                          Now you're getting nasty.   \n2           2           Well, we could spare your life, for one.   \n3           3          Ah! Monkey, you've got to snap out of it.   \n4           4                   I've got orders to put her down.   \n5           5  I'm not gonna have a child... ...with the same...   \n6           6  They're all laughing at us, so we'll kick your...   \n7           7    Maine was very short on black people back then.   \n8           8                 Briggs, what the hell's happening?   \n9           9  Another one simply had no clue what to do, so ...   \n\n                                         translation  similarity  lenght_diff  \\\n0  if Alkar floods her with her mental waste, it ...    0.785171     0.010309   \n1                        you're becoming disgusting.    0.749687     0.071429   \n2                      well, we can spare your life.    0.919051     0.268293   \n3                       monkey, you have to wake up.    0.664333     0.309524   \n4                         I have orders to kill her.    0.726639     0.181818   \n5  I'm not going to breed kids with a genetic dis...    0.703185     0.206522   \n6            they're laughing at us. We'll show you.    0.618866     0.230769   \n7             there wasn't much black in Maine then.    0.720482     0.187500   \n8                 Briggs, what the hell is going on?    0.920373     0.000000   \n9  another simply didn't know what to do, so when...    0.877540     0.101695   \n\n    ref_tox   trn_tox  \n0  0.014195  0.981983  \n1  0.065473  0.999039  \n2  0.213313  0.985068  \n3  0.053362  0.994215  \n4  0.009402  0.999348  \n5  0.950956  0.035846  \n6  0.999492  0.000131  \n7  0.963680  0.148710  \n8  0.159096  0.841071  \n9  0.055371  0.930472  ",
      "text/html": "<div>\n<style scoped>\n    .dataframe tbody tr th:only-of-type {\n        vertical-align: middle;\n    }\n\n    .dataframe tbody tr th {\n        vertical-align: top;\n    }\n\n    .dataframe thead th {\n        text-align: right;\n    }\n</style>\n<table border=\"1\" class=\"dataframe\">\n  <thead>\n    <tr style=\"text-align: right;\">\n      <th></th>\n      <th>Unnamed: 0</th>\n      <th>reference</th>\n      <th>translation</th>\n      <th>similarity</th>\n      <th>lenght_diff</th>\n      <th>ref_tox</th>\n      <th>trn_tox</th>\n    </tr>\n  </thead>\n  <tbody>\n    <tr>\n      <th>0</th>\n      <td>0</td>\n      <td>If Alkar is flooding her with psychic waste, t...</td>\n      <td>if Alkar floods her with her mental waste, it ...</td>\n      <td>0.785171</td>\n      <td>0.010309</td>\n      <td>0.014195</td>\n      <td>0.981983</td>\n    </tr>\n    <tr>\n      <th>1</th>\n      <td>1</td>\n      <td>Now you're getting nasty.</td>\n      <td>you're becoming disgusting.</td>\n      <td>0.749687</td>\n      <td>0.071429</td>\n      <td>0.065473</td>\n      <td>0.999039</td>\n    </tr>\n    <tr>\n      <th>2</th>\n      <td>2</td>\n      <td>Well, we could spare your life, for one.</td>\n      <td>well, we can spare your life.</td>\n      <td>0.919051</td>\n      <td>0.268293</td>\n      <td>0.213313</td>\n      <td>0.985068</td>\n    </tr>\n    <tr>\n      <th>3</th>\n      <td>3</td>\n      <td>Ah! Monkey, you've got to snap out of it.</td>\n      <td>monkey, you have to wake up.</td>\n      <td>0.664333</td>\n      <td>0.309524</td>\n      <td>0.053362</td>\n      <td>0.994215</td>\n    </tr>\n    <tr>\n      <th>4</th>\n      <td>4</td>\n      <td>I've got orders to put her down.</td>\n      <td>I have orders to kill her.</td>\n      <td>0.726639</td>\n      <td>0.181818</td>\n      <td>0.009402</td>\n      <td>0.999348</td>\n    </tr>\n    <tr>\n      <th>5</th>\n      <td>5</td>\n      <td>I'm not gonna have a child... ...with the same...</td>\n      <td>I'm not going to breed kids with a genetic dis...</td>\n      <td>0.703185</td>\n      <td>0.206522</td>\n      <td>0.950956</td>\n      <td>0.035846</td>\n    </tr>\n    <tr>\n      <th>6</th>\n      <td>6</td>\n      <td>They're all laughing at us, so we'll kick your...</td>\n      <td>they're laughing at us. We'll show you.</td>\n      <td>0.618866</td>\n      <td>0.230769</td>\n      <td>0.999492</td>\n      <td>0.000131</td>\n    </tr>\n    <tr>\n      <th>7</th>\n      <td>7</td>\n      <td>Maine was very short on black people back then.</td>\n      <td>there wasn't much black in Maine then.</td>\n      <td>0.720482</td>\n      <td>0.187500</td>\n      <td>0.963680</td>\n      <td>0.148710</td>\n    </tr>\n    <tr>\n      <th>8</th>\n      <td>8</td>\n      <td>Briggs, what the hell's happening?</td>\n      <td>Briggs, what the hell is going on?</td>\n      <td>0.920373</td>\n      <td>0.000000</td>\n      <td>0.159096</td>\n      <td>0.841071</td>\n    </tr>\n    <tr>\n      <th>9</th>\n      <td>9</td>\n      <td>Another one simply had no clue what to do, so ...</td>\n      <td>another simply didn't know what to do, so when...</td>\n      <td>0.877540</td>\n      <td>0.101695</td>\n      <td>0.055371</td>\n      <td>0.930472</td>\n    </tr>\n  </tbody>\n</table>\n</div>"
     },
     "execution_count": 51,
     "metadata": {},
     "output_type": "execute_result"
    }
   ],
   "source": [
    "import pandas as pd\n",
    "\n",
    "df = pd.read_csv(raw_data_path, sep='\\t')\n",
    "df.head(10)"
   ],
   "metadata": {
    "collapsed": false
   }
  },
  {
   "cell_type": "code",
   "execution_count": 52,
   "outputs": [
    {
     "name": "stdout",
     "output_type": "stream",
     "text": [
      "Index(['Unnamed: 0', 'reference', 'translation', 'similarity', 'lenght_diff',\n",
      "       'ref_tox', 'trn_tox'],\n",
      "      dtype='object')\n"
     ]
    }
   ],
   "source": [
    "print(df.columns)"
   ],
   "metadata": {
    "collapsed": false
   }
  },
  {
   "cell_type": "code",
   "execution_count": 53,
   "outputs": [
    {
     "name": "stdout",
     "output_type": "stream",
     "text": [
      "Index(['reference', 'translation', 'similarity', 'lenght_diff', 'ref_tox',\n",
      "       'trn_tox'],\n",
      "      dtype='object')\n"
     ]
    }
   ],
   "source": [
    "df.drop('Unnamed: 0', axis=1, inplace=True)\n",
    "print(df.columns)"
   ],
   "metadata": {
    "collapsed": false
   }
  },
  {
   "cell_type": "code",
   "execution_count": 54,
   "outputs": [
    {
     "name": "stdout",
     "output_type": "stream",
     "text": [
      "False    319142\n",
      "True     258635\n",
      "dtype: int64\n"
     ]
    }
   ],
   "source": [
    "df_toxs = df.iloc[:, 4] < df.iloc[:, 5]\n",
    "print(df_toxs.value_counts())"
   ],
   "metadata": {
    "collapsed": false
   }
  },
  {
   "cell_type": "markdown",
   "source": [
    "I think it's strange that in almost half  of the cases translation text is more toxic than reference text, so I just swap text in that case to get more logical dataset structure. But I'll do it in `src/data/make_dataset.py`."
   ],
   "metadata": {
    "collapsed": false
   }
  }
 ],
 "metadata": {
  "kernelspec": {
   "display_name": "Python 3",
   "language": "python",
   "name": "python3"
  },
  "language_info": {
   "codemirror_mode": {
    "name": "ipython",
    "version": 2
   },
   "file_extension": ".py",
   "mimetype": "text/x-python",
   "name": "python",
   "nbconvert_exporter": "python",
   "pygments_lexer": "ipython2",
   "version": "2.7.6"
  }
 },
 "nbformat": 4,
 "nbformat_minor": 0
}
